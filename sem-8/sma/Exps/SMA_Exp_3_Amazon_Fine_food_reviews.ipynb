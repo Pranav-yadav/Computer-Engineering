{
  "metadata": {
    "kernelspec": {
      "display_name": "Python 3",
      "language": "python",
      "name": "python3"
    },
    "language_info": {
      "name": "python",
      "version": "3.6.4",
      "mimetype": "text/x-python",
      "codemirror_mode": {
        "name": "ipython",
        "version": 3
      },
      "pygments_lexer": "ipython3",
      "nbconvert_exporter": "python",
      "file_extension": ".py"
    },
    "colab": {
      "provenance": []
    }
  },
  "nbformat_minor": 0,
  "nbformat": 4,
  "cells": [
    {
      "cell_type": "code",
      "source": [
        "# This Python 3 environment comes with many helpful analytics libraries installed\n",
        "# It is defined by the kaggle/python docker image: https://github.com/kaggle/docker-python\n",
        "# For example, here's several helpful packages to load in \n",
        "\n",
        "import numpy as np # linear algebra\n",
        "import pandas as pd # data processing, CSV file I/O (e.g. pd.read_csv)\n",
        "\n",
        "# Input data files are available in the \"../input/\" directory.\n",
        "# For example, running this (by clicking run or pressing Shift+Enter) will list the files in the input directory\n",
        "import numpy as np\n",
        "import pandas as pd\n",
        "import sqlite3\n",
        "from sklearn.feature_extraction.text import CountVectorizer\n",
        "from sklearn.manifold import TSNE\n",
        "import os\n",
        "# print(os.listdir(\"../input\"))\n",
        "\n",
        "# Any results you write to the current directory are saved as output."
      ],
      "metadata": {
        "_uuid": "8f2839f25d086af736a60e9eeb907d3b93b6e0e5",
        "_cell_guid": "b1076dfc-b9ad-4769-8c92-a6c4dae69d19",
        "collapsed": true,
        "jupyter": {
          "outputs_hidden": true
        },
        "trusted": true,
        "id": "x6FYaiqnZeKC"
      },
      "execution_count": null,
      "outputs": []
    },
    {
      "cell_type": "code",
      "source": [
        "import nltk\n",
        "nltk.download('all')"
      ],
      "metadata": {
        "id": "VGr8qatMn0Q5"
      },
      "execution_count": null,
      "outputs": []
    },
    {
      "cell_type": "code",
      "source": [
        "from google.colab import drive\n",
        "drive.mount('/content/drive')\n",
        "data_dir = '/content/drive/MyDrive/#Sem-8_Expts/SMA/Exp-3'\n",
        "os.listdir(data_dir)  # shows the subfolders"
      ],
      "metadata": {
        "colab": {
          "base_uri": "https://localhost:8080/"
        },
        "id": "PEolbwQmbBsK",
        "outputId": "9a9b317e-a8b9-483a-f517-571ca555a178"
      },
      "execution_count": null,
      "outputs": [
        {
          "output_type": "stream",
          "name": "stdout",
          "text": [
            "Mounted at /content/drive\n"
          ]
        },
        {
          "output_type": "execute_result",
          "data": {
            "text/plain": [
              "['Reviews.csv', 'database.sqlite', 'hashes.txt']"
            ]
          },
          "metadata": {},
          "execution_count": 3
        }
      ]
    },
    {
      "cell_type": "markdown",
      "source": [
        "#### The Amazon Fine food reviews dataframe has the following contents:\n",
        "Features : \n",
        "Id : Review ID,  'ProductId' : product ID,  'UserId' : , 'ProfileName : customer name', 'HelpfulnessNumerator : people found helpful', 'HelpfulnessDenominator : people indicated whether the found helpful', 'Score : star rating', 'Time : time of review', 'Summary : breif summary of the report ', 'Text : original review'\n",
        "\n",
        "#### Objective : To predict whether a review new is positive or not."
      ],
      "metadata": {
        "_uuid": "f4aff4cdbde22c353462fea4553bb8d380c4f8c9",
        "id": "6tQI5lwHZeKE"
      }
    },
    {
      "cell_type": "code",
      "source": [
        "# conn = sqlite3.connect('../input/database.sqlite')\n",
        "conn = sqlite3.connect('/content/drive/MyDrive/#Sem-8_Expts/SMA/Exp-3/database.sqlite')\n",
        "\n",
        "df = pd.read_sql (\"\"\"SELECT * from Reviews WHERE Score != 3\"\"\", conn)\n",
        "\n",
        "df['P/N'] = np.select((df['Score'] > 3, df['Score'] < 3), ('Positive', 'Negative'))\n",
        "df = df.drop(columns = 'Score')\n",
        "raw_df_shape = df.shape\n",
        "print(raw_df_shape)"
      ],
      "metadata": {
        "_uuid": "f21da81b53cbee640e531e7face1e2514457bd5d",
        "jupyter": {
          "outputs_hidden": true
        },
        "trusted": true,
        "colab": {
          "base_uri": "https://localhost:8080/"
        },
        "id": "1g9JSVxRZeKF",
        "outputId": "2327b32c-cc16-4823-bdbc-1d3b98d46580"
      },
      "execution_count": null,
      "outputs": [
        {
          "output_type": "stream",
          "name": "stdout",
          "text": [
            "(525814, 10)\n"
          ]
        }
      ]
    },
    {
      "cell_type": "markdown",
      "source": [
        "#### Data Cleaning : deduplication"
      ],
      "metadata": {
        "_uuid": "247dee91ade65b0d4630ab05f2395d282e26e1b7",
        "id": "h-k9pXjYZeKF"
      }
    },
    {
      "cell_type": "code",
      "source": [
        "df = df.sort_values('ProductId', axis = 0, ascending = True)\n",
        "df = df.drop_duplicates(subset = {'UserId', 'ProfileName', 'Time', 'Text'}, keep = 'first', inplace = False)\n",
        "# helpfulness denominator should be greater than helpfulness numerator\n",
        "\n",
        "df = df[df.HelpfulnessDenominator >= df.HelpfulnessNumerator]\n",
        "clean_df_shape = df.shape\n",
        "print(clean_df_shape)"
      ],
      "metadata": {
        "_uuid": "fcabb41295256fa6b4f7d2c8c6f7d0a6a6ebf05e",
        "jupyter": {
          "outputs_hidden": true
        },
        "trusted": true,
        "colab": {
          "base_uri": "https://localhost:8080/"
        },
        "id": "GMNwJPljZeKF",
        "outputId": "06c8437c-b66f-4315-9db1-faef5d83dfa8"
      },
      "execution_count": null,
      "outputs": [
        {
          "output_type": "stream",
          "name": "stdout",
          "text": [
            "(364171, 10)\n"
          ]
        }
      ]
    },
    {
      "cell_type": "markdown",
      "source": [
        "#### Checking how much data still remains"
      ],
      "metadata": {
        "_uuid": "7b1cf62b6e59d6bafd76afb0585972f5847e19af",
        "id": "GgQOHgVPZeKG"
      }
    },
    {
      "cell_type": "code",
      "source": [
        "print('Data points still remaining : ', clean_df_shape[0]*100/raw_df_shape[0], '%')"
      ],
      "metadata": {
        "_uuid": "9205a9b952d00d283a2d1665f08ee1004c4b7912",
        "jupyter": {
          "outputs_hidden": true
        },
        "trusted": true,
        "colab": {
          "base_uri": "https://localhost:8080/"
        },
        "id": "GcQL7BtRZeKG",
        "outputId": "85b97135-ff9f-4a80-b32c-5add7b198b45"
      },
      "execution_count": null,
      "outputs": [
        {
          "output_type": "stream",
          "name": "stdout",
          "text": [
            "Data points still remaining :  69.25852107399194 %\n"
          ]
        }
      ]
    },
    {
      "cell_type": "markdown",
      "source": [
        "#### Number of positive and negative reviews"
      ],
      "metadata": {
        "_uuid": "e237af6c095b987ede802d5583e0781895649b82",
        "id": "5aAQ84WjZeKG"
      }
    },
    {
      "cell_type": "code",
      "source": [
        "df['P/N'].value_counts()\n",
        "df = df.reset_index().drop('index', axis = 1)\n",
        "df.head(2).T"
      ],
      "metadata": {
        "_uuid": "d7c0a80aafe183112503e85ef47b4ce1048fd27f",
        "jupyter": {
          "outputs_hidden": true
        },
        "trusted": true,
        "colab": {
          "base_uri": "https://localhost:8080/",
          "height": 363
        },
        "id": "z3GjP_bJZeKG",
        "outputId": "4c51afdf-efab-4e77-81f1-4374b931dff1"
      },
      "execution_count": null,
      "outputs": [
        {
          "output_type": "execute_result",
          "data": {
            "text/plain": [
              "                                                                        0  \\\n",
              "Id                                                                 150524   \n",
              "ProductId                                                      0006641040   \n",
              "UserId                                                      ACITT7DI6IDDL   \n",
              "ProfileName                                               shari zychinski   \n",
              "HelpfulnessNumerator                                                    0   \n",
              "HelpfulnessDenominator                                                  0   \n",
              "Time                                                            939340800   \n",
              "Summary                                         EVERY book is educational   \n",
              "Text                    this witty little book makes my son laugh at l...   \n",
              "P/N                                                              Positive   \n",
              "\n",
              "                                                                        1  \n",
              "Id                                                                 150506  \n",
              "ProductId                                                      0006641040  \n",
              "UserId                                                     A2IW4PEEKO2R0U  \n",
              "ProfileName                                                         Tracy  \n",
              "HelpfulnessNumerator                                                    1  \n",
              "HelpfulnessDenominator                                                  1  \n",
              "Time                                                           1194739200  \n",
              "Summary                        Love the book, miss the hard cover version  \n",
              "Text                    I grew up reading these Sendak books, and watc...  \n",
              "P/N                                                              Positive  "
            ],
            "text/html": [
              "\n",
              "  <div id=\"df-01987f43-bda0-4c44-8235-108439df3706\">\n",
              "    <div class=\"colab-df-container\">\n",
              "      <div>\n",
              "<style scoped>\n",
              "    .dataframe tbody tr th:only-of-type {\n",
              "        vertical-align: middle;\n",
              "    }\n",
              "\n",
              "    .dataframe tbody tr th {\n",
              "        vertical-align: top;\n",
              "    }\n",
              "\n",
              "    .dataframe thead th {\n",
              "        text-align: right;\n",
              "    }\n",
              "</style>\n",
              "<table border=\"1\" class=\"dataframe\">\n",
              "  <thead>\n",
              "    <tr style=\"text-align: right;\">\n",
              "      <th></th>\n",
              "      <th>0</th>\n",
              "      <th>1</th>\n",
              "    </tr>\n",
              "  </thead>\n",
              "  <tbody>\n",
              "    <tr>\n",
              "      <th>Id</th>\n",
              "      <td>150524</td>\n",
              "      <td>150506</td>\n",
              "    </tr>\n",
              "    <tr>\n",
              "      <th>ProductId</th>\n",
              "      <td>0006641040</td>\n",
              "      <td>0006641040</td>\n",
              "    </tr>\n",
              "    <tr>\n",
              "      <th>UserId</th>\n",
              "      <td>ACITT7DI6IDDL</td>\n",
              "      <td>A2IW4PEEKO2R0U</td>\n",
              "    </tr>\n",
              "    <tr>\n",
              "      <th>ProfileName</th>\n",
              "      <td>shari zychinski</td>\n",
              "      <td>Tracy</td>\n",
              "    </tr>\n",
              "    <tr>\n",
              "      <th>HelpfulnessNumerator</th>\n",
              "      <td>0</td>\n",
              "      <td>1</td>\n",
              "    </tr>\n",
              "    <tr>\n",
              "      <th>HelpfulnessDenominator</th>\n",
              "      <td>0</td>\n",
              "      <td>1</td>\n",
              "    </tr>\n",
              "    <tr>\n",
              "      <th>Time</th>\n",
              "      <td>939340800</td>\n",
              "      <td>1194739200</td>\n",
              "    </tr>\n",
              "    <tr>\n",
              "      <th>Summary</th>\n",
              "      <td>EVERY book is educational</td>\n",
              "      <td>Love the book, miss the hard cover version</td>\n",
              "    </tr>\n",
              "    <tr>\n",
              "      <th>Text</th>\n",
              "      <td>this witty little book makes my son laugh at l...</td>\n",
              "      <td>I grew up reading these Sendak books, and watc...</td>\n",
              "    </tr>\n",
              "    <tr>\n",
              "      <th>P/N</th>\n",
              "      <td>Positive</td>\n",
              "      <td>Positive</td>\n",
              "    </tr>\n",
              "  </tbody>\n",
              "</table>\n",
              "</div>\n",
              "      <button class=\"colab-df-convert\" onclick=\"convertToInteractive('df-01987f43-bda0-4c44-8235-108439df3706')\"\n",
              "              title=\"Convert this dataframe to an interactive table.\"\n",
              "              style=\"display:none;\">\n",
              "        \n",
              "  <svg xmlns=\"http://www.w3.org/2000/svg\" height=\"24px\"viewBox=\"0 0 24 24\"\n",
              "       width=\"24px\">\n",
              "    <path d=\"M0 0h24v24H0V0z\" fill=\"none\"/>\n",
              "    <path d=\"M18.56 5.44l.94 2.06.94-2.06 2.06-.94-2.06-.94-.94-2.06-.94 2.06-2.06.94zm-11 1L8.5 8.5l.94-2.06 2.06-.94-2.06-.94L8.5 2.5l-.94 2.06-2.06.94zm10 10l.94 2.06.94-2.06 2.06-.94-2.06-.94-.94-2.06-.94 2.06-2.06.94z\"/><path d=\"M17.41 7.96l-1.37-1.37c-.4-.4-.92-.59-1.43-.59-.52 0-1.04.2-1.43.59L10.3 9.45l-7.72 7.72c-.78.78-.78 2.05 0 2.83L4 21.41c.39.39.9.59 1.41.59.51 0 1.02-.2 1.41-.59l7.78-7.78 2.81-2.81c.8-.78.8-2.07 0-2.86zM5.41 20L4 18.59l7.72-7.72 1.47 1.35L5.41 20z\"/>\n",
              "  </svg>\n",
              "      </button>\n",
              "      \n",
              "  <style>\n",
              "    .colab-df-container {\n",
              "      display:flex;\n",
              "      flex-wrap:wrap;\n",
              "      gap: 12px;\n",
              "    }\n",
              "\n",
              "    .colab-df-convert {\n",
              "      background-color: #E8F0FE;\n",
              "      border: none;\n",
              "      border-radius: 50%;\n",
              "      cursor: pointer;\n",
              "      display: none;\n",
              "      fill: #1967D2;\n",
              "      height: 32px;\n",
              "      padding: 0 0 0 0;\n",
              "      width: 32px;\n",
              "    }\n",
              "\n",
              "    .colab-df-convert:hover {\n",
              "      background-color: #E2EBFA;\n",
              "      box-shadow: 0px 1px 2px rgba(60, 64, 67, 0.3), 0px 1px 3px 1px rgba(60, 64, 67, 0.15);\n",
              "      fill: #174EA6;\n",
              "    }\n",
              "\n",
              "    [theme=dark] .colab-df-convert {\n",
              "      background-color: #3B4455;\n",
              "      fill: #D2E3FC;\n",
              "    }\n",
              "\n",
              "    [theme=dark] .colab-df-convert:hover {\n",
              "      background-color: #434B5C;\n",
              "      box-shadow: 0px 1px 3px 1px rgba(0, 0, 0, 0.15);\n",
              "      filter: drop-shadow(0px 1px 2px rgba(0, 0, 0, 0.3));\n",
              "      fill: #FFFFFF;\n",
              "    }\n",
              "  </style>\n",
              "\n",
              "      <script>\n",
              "        const buttonEl =\n",
              "          document.querySelector('#df-01987f43-bda0-4c44-8235-108439df3706 button.colab-df-convert');\n",
              "        buttonEl.style.display =\n",
              "          google.colab.kernel.accessAllowed ? 'block' : 'none';\n",
              "\n",
              "        async function convertToInteractive(key) {\n",
              "          const element = document.querySelector('#df-01987f43-bda0-4c44-8235-108439df3706');\n",
              "          const dataTable =\n",
              "            await google.colab.kernel.invokeFunction('convertToInteractive',\n",
              "                                                     [key], {});\n",
              "          if (!dataTable) return;\n",
              "\n",
              "          const docLinkHtml = 'Like what you see? Visit the ' +\n",
              "            '<a target=\"_blank\" href=https://colab.research.google.com/notebooks/data_table.ipynb>data table notebook</a>'\n",
              "            + ' to learn more about interactive tables.';\n",
              "          element.innerHTML = '';\n",
              "          dataTable['output_type'] = 'display_data';\n",
              "          await google.colab.output.renderOutput(dataTable, element);\n",
              "          const docLink = document.createElement('div');\n",
              "          docLink.innerHTML = docLinkHtml;\n",
              "          element.appendChild(docLink);\n",
              "        }\n",
              "      </script>\n",
              "    </div>\n",
              "  </div>\n",
              "  "
            ]
          },
          "metadata": {},
          "execution_count": 7
        }
      ]
    },
    {
      "cell_type": "markdown",
      "source": [
        "#### Test Preprocessing ( Removing HTML Tags, punctuations, check for alphanumerics, check if length of words is less than or equal to 2, convert word into lowercase and snowball stemming.   "
      ],
      "metadata": {
        "_uuid": "ac72ebbf006f9fac8e500d7f1136f34f22e36726",
        "id": "XWaRII3gZeKH"
      }
    },
    {
      "cell_type": "code",
      "source": [
        "\"\"\"Text processing taken into consideration step wise\n",
        "1. Removing HTML tags\n",
        "2. Removing punctuations\n",
        "3. Removing stopwords\n",
        "4. Tokenizing sentences into words\n",
        "5. Checking if size of words is greater than 1\n",
        "6. Snowball Stemming \n",
        "\"\"\"\n",
        "import re\n",
        "import timeit\n",
        "import numpy as np\n",
        "import time\n",
        "from nltk.corpus import stopwords\n",
        "from nltk.stem import SnowballStemmer\n",
        "from nltk.stem import WordNetLemmatizer\n",
        "from nltk import word_tokenize\n",
        "\n",
        "stopwords = set(stopwords.words('english'))\n",
        "snowballstemmer = SnowballStemmer('english')\n",
        "lemmatizer = WordNetLemmatizer()\n",
        "\n",
        "\n",
        "t0 = time.time()\n",
        "processed_positive_words_list = []\n",
        "processed_negative_words_list = []\n",
        "processed_sentence_list = []\n",
        "\n",
        "for i in df.index:\n",
        "    this_sentence = []\n",
        "    stemmedwords = []\n",
        "    text = df.iloc[i]['Text']\n",
        "    \n",
        "    #Remove HTML Tags\n",
        "    text = re.sub('<.*?>', ' ', text) \n",
        "    \n",
        "    #Clear punctuation and numbers\n",
        "    text = re.sub('[^A-Za-z]+', ' ', text)\n",
        "    \n",
        "    #Convert all uppercase characters into lowercase\n",
        "    text = text.lower()\n",
        "    #Tokenize string\n",
        "    #removing stopwords\n",
        "    #stemming words\n",
        "    #checking wordlength\n",
        "    for words in word_tokenize(text):\n",
        "        if len(words) > 1 and words not in stopwords:\n",
        "            stemmedwords.append(snowballstemmer.stem(words))\n",
        "            \n",
        "    if df.iloc[i]['P/N'] == 'Positive':\n",
        "        processed_positive_words_list+=(stemmedwords)\n",
        "    elif df.iloc[i]['P/N'] == 'Negative':                \n",
        "        processed_negative_words_list+=(stemmedwords)\n",
        "                \n",
        "    #Joining words\n",
        "    clean_sentence = \" \".join(stemmedwords)\n",
        "    processed_sentence_list.append(clean_sentence)\n",
        "\n",
        "    print((i*100/364159),end =\"\\r\")\n",
        "    \n",
        "t1 = time.time()\n",
        "print('time elapsed',t1-t0, 'secs')\n"
      ],
      "metadata": {
        "_uuid": "71df822add03c2307fbcf4e45789dabda49340d9",
        "scrolled": true,
        "jupyter": {
          "outputs_hidden": true
        },
        "trusted": true,
        "colab": {
          "base_uri": "https://localhost:8080/"
        },
        "id": "Tp5gUTe-ZeKH",
        "outputId": "3656df3c-eb28-417c-fc90-f724b1d9f223"
      },
      "execution_count": null,
      "outputs": [
        {
          "output_type": "stream",
          "name": "stdout",
          "text": [
            "time elapsed 511.62804317474365 secs\n"
          ]
        }
      ]
    },
    {
      "cell_type": "code",
      "source": [
        "processed_all_words = processed_positive_words_list + processed_negative_words_list\n",
        "print(\"Total number of words in processed_words_list : \", len(processed_all_words))\n",
        "print(\"Total number of sentences in preprocessed_sentence_list : \", len(processed_sentence_list))\n",
        "print(\"Total number of positive words : \", len(processed_positive_words_list))\n",
        "print(\"Total number of negative words : \", len(processed_negative_words_list))"
      ],
      "metadata": {
        "_uuid": "6485ec711dccde2bcff8cde5b37113e4607f0d70",
        "jupyter": {
          "outputs_hidden": true
        },
        "trusted": true,
        "colab": {
          "base_uri": "https://localhost:8080/"
        },
        "id": "-2BdVWE9ZeKH",
        "outputId": "5fe021fe-506e-4af6-ed32-65e00fd1d23c"
      },
      "execution_count": null,
      "outputs": [
        {
          "output_type": "stream",
          "name": "stdout",
          "text": [
            "Total number of words in processed_words_list :  14049923\n",
            "Total number of sentences in preprocessed_sentence_list :  364171\n",
            "Total number of positive words :  11690619\n",
            "Total number of negative words :  2359304\n"
          ]
        }
      ]
    },
    {
      "cell_type": "code",
      "source": [
        "#type(processed_sentence_list)\n",
        "df['Cleaned_Text'] = processed_sentence_list\n",
        "df.head(2).T"
      ],
      "metadata": {
        "_uuid": "f48b5d61c6355a9535ab8b918c614f0661a3115f",
        "jupyter": {
          "outputs_hidden": true
        },
        "trusted": true,
        "colab": {
          "base_uri": "https://localhost:8080/",
          "height": 394
        },
        "id": "Sczo8rSbZeKH",
        "outputId": "a694bb0a-17a2-4353-d3f1-9f0259089898"
      },
      "execution_count": null,
      "outputs": [
        {
          "output_type": "execute_result",
          "data": {
            "text/plain": [
              "                                                                        0  \\\n",
              "Id                                                                 150524   \n",
              "ProductId                                                      0006641040   \n",
              "UserId                                                      ACITT7DI6IDDL   \n",
              "ProfileName                                               shari zychinski   \n",
              "HelpfulnessNumerator                                                    0   \n",
              "HelpfulnessDenominator                                                  0   \n",
              "Time                                                            939340800   \n",
              "Summary                                         EVERY book is educational   \n",
              "Text                    this witty little book makes my son laugh at l...   \n",
              "P/N                                                              Positive   \n",
              "Cleaned_Text            witti littl book make son laugh loud recit car...   \n",
              "\n",
              "                                                                        1  \n",
              "Id                                                                 150506  \n",
              "ProductId                                                      0006641040  \n",
              "UserId                                                     A2IW4PEEKO2R0U  \n",
              "ProfileName                                                         Tracy  \n",
              "HelpfulnessNumerator                                                    1  \n",
              "HelpfulnessDenominator                                                  1  \n",
              "Time                                                           1194739200  \n",
              "Summary                        Love the book, miss the hard cover version  \n",
              "Text                    I grew up reading these Sendak books, and watc...  \n",
              "P/N                                                              Positive  \n",
              "Cleaned_Text            grew read sendak book watch realli rosi movi i...  "
            ],
            "text/html": [
              "\n",
              "  <div id=\"df-99185d0b-82b0-42c6-b7f1-11be8fdfae2a\">\n",
              "    <div class=\"colab-df-container\">\n",
              "      <div>\n",
              "<style scoped>\n",
              "    .dataframe tbody tr th:only-of-type {\n",
              "        vertical-align: middle;\n",
              "    }\n",
              "\n",
              "    .dataframe tbody tr th {\n",
              "        vertical-align: top;\n",
              "    }\n",
              "\n",
              "    .dataframe thead th {\n",
              "        text-align: right;\n",
              "    }\n",
              "</style>\n",
              "<table border=\"1\" class=\"dataframe\">\n",
              "  <thead>\n",
              "    <tr style=\"text-align: right;\">\n",
              "      <th></th>\n",
              "      <th>0</th>\n",
              "      <th>1</th>\n",
              "    </tr>\n",
              "  </thead>\n",
              "  <tbody>\n",
              "    <tr>\n",
              "      <th>Id</th>\n",
              "      <td>150524</td>\n",
              "      <td>150506</td>\n",
              "    </tr>\n",
              "    <tr>\n",
              "      <th>ProductId</th>\n",
              "      <td>0006641040</td>\n",
              "      <td>0006641040</td>\n",
              "    </tr>\n",
              "    <tr>\n",
              "      <th>UserId</th>\n",
              "      <td>ACITT7DI6IDDL</td>\n",
              "      <td>A2IW4PEEKO2R0U</td>\n",
              "    </tr>\n",
              "    <tr>\n",
              "      <th>ProfileName</th>\n",
              "      <td>shari zychinski</td>\n",
              "      <td>Tracy</td>\n",
              "    </tr>\n",
              "    <tr>\n",
              "      <th>HelpfulnessNumerator</th>\n",
              "      <td>0</td>\n",
              "      <td>1</td>\n",
              "    </tr>\n",
              "    <tr>\n",
              "      <th>HelpfulnessDenominator</th>\n",
              "      <td>0</td>\n",
              "      <td>1</td>\n",
              "    </tr>\n",
              "    <tr>\n",
              "      <th>Time</th>\n",
              "      <td>939340800</td>\n",
              "      <td>1194739200</td>\n",
              "    </tr>\n",
              "    <tr>\n",
              "      <th>Summary</th>\n",
              "      <td>EVERY book is educational</td>\n",
              "      <td>Love the book, miss the hard cover version</td>\n",
              "    </tr>\n",
              "    <tr>\n",
              "      <th>Text</th>\n",
              "      <td>this witty little book makes my son laugh at l...</td>\n",
              "      <td>I grew up reading these Sendak books, and watc...</td>\n",
              "    </tr>\n",
              "    <tr>\n",
              "      <th>P/N</th>\n",
              "      <td>Positive</td>\n",
              "      <td>Positive</td>\n",
              "    </tr>\n",
              "    <tr>\n",
              "      <th>Cleaned_Text</th>\n",
              "      <td>witti littl book make son laugh loud recit car...</td>\n",
              "      <td>grew read sendak book watch realli rosi movi i...</td>\n",
              "    </tr>\n",
              "  </tbody>\n",
              "</table>\n",
              "</div>\n",
              "      <button class=\"colab-df-convert\" onclick=\"convertToInteractive('df-99185d0b-82b0-42c6-b7f1-11be8fdfae2a')\"\n",
              "              title=\"Convert this dataframe to an interactive table.\"\n",
              "              style=\"display:none;\">\n",
              "        \n",
              "  <svg xmlns=\"http://www.w3.org/2000/svg\" height=\"24px\"viewBox=\"0 0 24 24\"\n",
              "       width=\"24px\">\n",
              "    <path d=\"M0 0h24v24H0V0z\" fill=\"none\"/>\n",
              "    <path d=\"M18.56 5.44l.94 2.06.94-2.06 2.06-.94-2.06-.94-.94-2.06-.94 2.06-2.06.94zm-11 1L8.5 8.5l.94-2.06 2.06-.94-2.06-.94L8.5 2.5l-.94 2.06-2.06.94zm10 10l.94 2.06.94-2.06 2.06-.94-2.06-.94-.94-2.06-.94 2.06-2.06.94z\"/><path d=\"M17.41 7.96l-1.37-1.37c-.4-.4-.92-.59-1.43-.59-.52 0-1.04.2-1.43.59L10.3 9.45l-7.72 7.72c-.78.78-.78 2.05 0 2.83L4 21.41c.39.39.9.59 1.41.59.51 0 1.02-.2 1.41-.59l7.78-7.78 2.81-2.81c.8-.78.8-2.07 0-2.86zM5.41 20L4 18.59l7.72-7.72 1.47 1.35L5.41 20z\"/>\n",
              "  </svg>\n",
              "      </button>\n",
              "      \n",
              "  <style>\n",
              "    .colab-df-container {\n",
              "      display:flex;\n",
              "      flex-wrap:wrap;\n",
              "      gap: 12px;\n",
              "    }\n",
              "\n",
              "    .colab-df-convert {\n",
              "      background-color: #E8F0FE;\n",
              "      border: none;\n",
              "      border-radius: 50%;\n",
              "      cursor: pointer;\n",
              "      display: none;\n",
              "      fill: #1967D2;\n",
              "      height: 32px;\n",
              "      padding: 0 0 0 0;\n",
              "      width: 32px;\n",
              "    }\n",
              "\n",
              "    .colab-df-convert:hover {\n",
              "      background-color: #E2EBFA;\n",
              "      box-shadow: 0px 1px 2px rgba(60, 64, 67, 0.3), 0px 1px 3px 1px rgba(60, 64, 67, 0.15);\n",
              "      fill: #174EA6;\n",
              "    }\n",
              "\n",
              "    [theme=dark] .colab-df-convert {\n",
              "      background-color: #3B4455;\n",
              "      fill: #D2E3FC;\n",
              "    }\n",
              "\n",
              "    [theme=dark] .colab-df-convert:hover {\n",
              "      background-color: #434B5C;\n",
              "      box-shadow: 0px 1px 3px 1px rgba(0, 0, 0, 0.15);\n",
              "      filter: drop-shadow(0px 1px 2px rgba(0, 0, 0, 0.3));\n",
              "      fill: #FFFFFF;\n",
              "    }\n",
              "  </style>\n",
              "\n",
              "      <script>\n",
              "        const buttonEl =\n",
              "          document.querySelector('#df-99185d0b-82b0-42c6-b7f1-11be8fdfae2a button.colab-df-convert');\n",
              "        buttonEl.style.display =\n",
              "          google.colab.kernel.accessAllowed ? 'block' : 'none';\n",
              "\n",
              "        async function convertToInteractive(key) {\n",
              "          const element = document.querySelector('#df-99185d0b-82b0-42c6-b7f1-11be8fdfae2a');\n",
              "          const dataTable =\n",
              "            await google.colab.kernel.invokeFunction('convertToInteractive',\n",
              "                                                     [key], {});\n",
              "          if (!dataTable) return;\n",
              "\n",
              "          const docLinkHtml = 'Like what you see? Visit the ' +\n",
              "            '<a target=\"_blank\" href=https://colab.research.google.com/notebooks/data_table.ipynb>data table notebook</a>'\n",
              "            + ' to learn more about interactive tables.';\n",
              "          element.innerHTML = '';\n",
              "          dataTable['output_type'] = 'display_data';\n",
              "          await google.colab.output.renderOutput(dataTable, element);\n",
              "          const docLink = document.createElement('div');\n",
              "          docLink.innerHTML = docLinkHtml;\n",
              "          element.appendChild(docLink);\n",
              "        }\n",
              "      </script>\n",
              "    </div>\n",
              "  </div>\n",
              "  "
            ]
          },
          "metadata": {},
          "execution_count": 10
        }
      ]
    },
    {
      "cell_type": "code",
      "source": [
        "processed_positive_words_list[:10]"
      ],
      "metadata": {
        "_uuid": "4cbd6da98cdd365d89e0938b800bd0dc9d12e5f0",
        "jupyter": {
          "outputs_hidden": true
        },
        "trusted": true,
        "colab": {
          "base_uri": "https://localhost:8080/"
        },
        "id": "2S0L-HnZZeKI",
        "outputId": "248575b0-bd4d-4591-c12d-d7b4c15a48bb"
      },
      "execution_count": null,
      "outputs": [
        {
          "output_type": "execute_result",
          "data": {
            "text/plain": [
              "['witti',\n",
              " 'littl',\n",
              " 'book',\n",
              " 'make',\n",
              " 'son',\n",
              " 'laugh',\n",
              " 'loud',\n",
              " 'recit',\n",
              " 'car',\n",
              " 'drive']"
            ]
          },
          "metadata": {},
          "execution_count": 11
        }
      ]
    },
    {
      "cell_type": "code",
      "source": [
        "processed_negative_words_list[:10]"
      ],
      "metadata": {
        "_uuid": "21fa767c24a86d54c640093a421164138a2e5053",
        "jupyter": {
          "outputs_hidden": true
        },
        "trusted": true,
        "colab": {
          "base_uri": "https://localhost:8080/"
        },
        "id": "X7NYlPPvZeKI",
        "outputId": "327573bf-3832-43a0-dde4-6d00372ef5e8"
      },
      "execution_count": null,
      "outputs": [
        {
          "output_type": "execute_result",
          "data": {
            "text/plain": [
              "['one',\n",
              " 'best',\n",
              " 'children',\n",
              " 'book',\n",
              " 'ever',\n",
              " 'written',\n",
              " 'mini',\n",
              " 'version',\n",
              " 'book',\n",
              " 'portray']"
            ]
          },
          "metadata": {},
          "execution_count": 12
        }
      ]
    },
    {
      "cell_type": "markdown",
      "source": [
        "### Storing final table to sql for future "
      ],
      "metadata": {
        "_uuid": "0713227773238ea295d1d147562c38f9f377f0d9",
        "id": "cDh3F4PhZeKI"
      }
    },
    {
      "cell_type": "code",
      "source": [
        "# store final table into an SQlLite table for future.\n",
        "try:\n",
        "    os.remove('amazon_review_df.sqlite')\n",
        "except:\n",
        "    print('Exception : file not exist')\n",
        "conn = sqlite3.connect('amazon_review_df.sqlite')\n",
        "c=conn.cursor()\n",
        "conn.text_factory = str\n",
        "df.to_sql('Reviews', conn,  schema=None, if_exists='replace', index=True, index_label=None, chunksize=None, dtype=None)\n"
      ],
      "metadata": {
        "_uuid": "001932dc67298878bae282862d909aaeaa9dbed8",
        "jupyter": {
          "outputs_hidden": true
        },
        "trusted": true,
        "colab": {
          "base_uri": "https://localhost:8080/"
        },
        "id": "E7JxJejaZeKI",
        "outputId": "20463a80-474d-4f1a-d3a1-3510cccad389"
      },
      "execution_count": null,
      "outputs": [
        {
          "output_type": "stream",
          "name": "stdout",
          "text": [
            "Exception : file not exist\n"
          ]
        }
      ]
    },
    {
      "cell_type": "code",
      "source": [
        "# store processed positive, negative and sentance list into an SQlLite table for future.\n",
        "try:\n",
        "    os.remove('positive_words.txt')\n",
        "except:\n",
        "    print('Exception : file not exist')\n",
        "try:\n",
        "    os.remove('negative_words.txt')\n",
        "except:\n",
        "    print('file not exist')\n",
        "\n",
        "with open('positive_words.txt', 'w') as f:\n",
        "    for x in processed_positive_words_list:\n",
        "        f.write(x)\n",
        "        f.write(',')\n",
        "    f.close()\n",
        "\n",
        "with open('negative_words.txt', 'w') as f:\n",
        "    for x in processed_negative_words_list:\n",
        "        f.write(x)\n",
        "        f.write(',')\n",
        "    f.close()\n"
      ],
      "metadata": {
        "_uuid": "b1ef7cd43a5e29de344db5c46fb50c26624aa664",
        "jupyter": {
          "outputs_hidden": true
        },
        "trusted": true,
        "colab": {
          "base_uri": "https://localhost:8080/"
        },
        "id": "OIHxWS0uZeKJ",
        "outputId": "cdeadcec-5347-4bea-d96c-134a2c9a4e63"
      },
      "execution_count": null,
      "outputs": [
        {
          "output_type": "stream",
          "name": "stdout",
          "text": [
            "Exception : file not exist\n",
            "file not exist\n"
          ]
        }
      ]
    },
    {
      "cell_type": "markdown",
      "source": [
        "### Read from my_amazon_review_df.sqlite"
      ],
      "metadata": {
        "_uuid": "47f86c1b64e970ca06fd9e69c5aee8592690596e",
        "id": "1TKoEus6ZeKJ"
      }
    },
    {
      "cell_type": "code",
      "source": [
        "conn = sqlite3.connect('amazon_review_df.sqlite')\n",
        "display= pd.read_sql_query(\"\"\"\n",
        "SELECT * from Reviews\"\"\", conn)\n",
        "display.head(2).T"
      ],
      "metadata": {
        "_uuid": "fade27e76729d212d7d96626dab8342847da4111",
        "jupyter": {
          "outputs_hidden": true
        },
        "trusted": true,
        "id": "gB6POUPTZeKJ",
        "colab": {
          "base_uri": "https://localhost:8080/",
          "height": 426
        },
        "outputId": "85daf8f0-b9f0-4553-bd94-7d22f5e95866"
      },
      "execution_count": null,
      "outputs": [
        {
          "output_type": "execute_result",
          "data": {
            "text/plain": [
              "                                                                        0  \\\n",
              "index                                                                   0   \n",
              "Id                                                                 150524   \n",
              "ProductId                                                      0006641040   \n",
              "UserId                                                      ACITT7DI6IDDL   \n",
              "ProfileName                                               shari zychinski   \n",
              "HelpfulnessNumerator                                                    0   \n",
              "HelpfulnessDenominator                                                  0   \n",
              "Time                                                            939340800   \n",
              "Summary                                         EVERY book is educational   \n",
              "Text                    this witty little book makes my son laugh at l...   \n",
              "P/N                                                              Positive   \n",
              "Cleaned_Text            witti littl book make son laugh loud recit car...   \n",
              "\n",
              "                                                                        1  \n",
              "index                                                                   1  \n",
              "Id                                                                 150506  \n",
              "ProductId                                                      0006641040  \n",
              "UserId                                                     A2IW4PEEKO2R0U  \n",
              "ProfileName                                                         Tracy  \n",
              "HelpfulnessNumerator                                                    1  \n",
              "HelpfulnessDenominator                                                  1  \n",
              "Time                                                           1194739200  \n",
              "Summary                        Love the book, miss the hard cover version  \n",
              "Text                    I grew up reading these Sendak books, and watc...  \n",
              "P/N                                                              Positive  \n",
              "Cleaned_Text            grew read sendak book watch realli rosi movi i...  "
            ],
            "text/html": [
              "\n",
              "  <div id=\"df-1ee18b65-a6c8-4930-b740-02712bd255cc\">\n",
              "    <div class=\"colab-df-container\">\n",
              "      <div>\n",
              "<style scoped>\n",
              "    .dataframe tbody tr th:only-of-type {\n",
              "        vertical-align: middle;\n",
              "    }\n",
              "\n",
              "    .dataframe tbody tr th {\n",
              "        vertical-align: top;\n",
              "    }\n",
              "\n",
              "    .dataframe thead th {\n",
              "        text-align: right;\n",
              "    }\n",
              "</style>\n",
              "<table border=\"1\" class=\"dataframe\">\n",
              "  <thead>\n",
              "    <tr style=\"text-align: right;\">\n",
              "      <th></th>\n",
              "      <th>0</th>\n",
              "      <th>1</th>\n",
              "    </tr>\n",
              "  </thead>\n",
              "  <tbody>\n",
              "    <tr>\n",
              "      <th>index</th>\n",
              "      <td>0</td>\n",
              "      <td>1</td>\n",
              "    </tr>\n",
              "    <tr>\n",
              "      <th>Id</th>\n",
              "      <td>150524</td>\n",
              "      <td>150506</td>\n",
              "    </tr>\n",
              "    <tr>\n",
              "      <th>ProductId</th>\n",
              "      <td>0006641040</td>\n",
              "      <td>0006641040</td>\n",
              "    </tr>\n",
              "    <tr>\n",
              "      <th>UserId</th>\n",
              "      <td>ACITT7DI6IDDL</td>\n",
              "      <td>A2IW4PEEKO2R0U</td>\n",
              "    </tr>\n",
              "    <tr>\n",
              "      <th>ProfileName</th>\n",
              "      <td>shari zychinski</td>\n",
              "      <td>Tracy</td>\n",
              "    </tr>\n",
              "    <tr>\n",
              "      <th>HelpfulnessNumerator</th>\n",
              "      <td>0</td>\n",
              "      <td>1</td>\n",
              "    </tr>\n",
              "    <tr>\n",
              "      <th>HelpfulnessDenominator</th>\n",
              "      <td>0</td>\n",
              "      <td>1</td>\n",
              "    </tr>\n",
              "    <tr>\n",
              "      <th>Time</th>\n",
              "      <td>939340800</td>\n",
              "      <td>1194739200</td>\n",
              "    </tr>\n",
              "    <tr>\n",
              "      <th>Summary</th>\n",
              "      <td>EVERY book is educational</td>\n",
              "      <td>Love the book, miss the hard cover version</td>\n",
              "    </tr>\n",
              "    <tr>\n",
              "      <th>Text</th>\n",
              "      <td>this witty little book makes my son laugh at l...</td>\n",
              "      <td>I grew up reading these Sendak books, and watc...</td>\n",
              "    </tr>\n",
              "    <tr>\n",
              "      <th>P/N</th>\n",
              "      <td>Positive</td>\n",
              "      <td>Positive</td>\n",
              "    </tr>\n",
              "    <tr>\n",
              "      <th>Cleaned_Text</th>\n",
              "      <td>witti littl book make son laugh loud recit car...</td>\n",
              "      <td>grew read sendak book watch realli rosi movi i...</td>\n",
              "    </tr>\n",
              "  </tbody>\n",
              "</table>\n",
              "</div>\n",
              "      <button class=\"colab-df-convert\" onclick=\"convertToInteractive('df-1ee18b65-a6c8-4930-b740-02712bd255cc')\"\n",
              "              title=\"Convert this dataframe to an interactive table.\"\n",
              "              style=\"display:none;\">\n",
              "        \n",
              "  <svg xmlns=\"http://www.w3.org/2000/svg\" height=\"24px\"viewBox=\"0 0 24 24\"\n",
              "       width=\"24px\">\n",
              "    <path d=\"M0 0h24v24H0V0z\" fill=\"none\"/>\n",
              "    <path d=\"M18.56 5.44l.94 2.06.94-2.06 2.06-.94-2.06-.94-.94-2.06-.94 2.06-2.06.94zm-11 1L8.5 8.5l.94-2.06 2.06-.94-2.06-.94L8.5 2.5l-.94 2.06-2.06.94zm10 10l.94 2.06.94-2.06 2.06-.94-2.06-.94-.94-2.06-.94 2.06-2.06.94z\"/><path d=\"M17.41 7.96l-1.37-1.37c-.4-.4-.92-.59-1.43-.59-.52 0-1.04.2-1.43.59L10.3 9.45l-7.72 7.72c-.78.78-.78 2.05 0 2.83L4 21.41c.39.39.9.59 1.41.59.51 0 1.02-.2 1.41-.59l7.78-7.78 2.81-2.81c.8-.78.8-2.07 0-2.86zM5.41 20L4 18.59l7.72-7.72 1.47 1.35L5.41 20z\"/>\n",
              "  </svg>\n",
              "      </button>\n",
              "      \n",
              "  <style>\n",
              "    .colab-df-container {\n",
              "      display:flex;\n",
              "      flex-wrap:wrap;\n",
              "      gap: 12px;\n",
              "    }\n",
              "\n",
              "    .colab-df-convert {\n",
              "      background-color: #E8F0FE;\n",
              "      border: none;\n",
              "      border-radius: 50%;\n",
              "      cursor: pointer;\n",
              "      display: none;\n",
              "      fill: #1967D2;\n",
              "      height: 32px;\n",
              "      padding: 0 0 0 0;\n",
              "      width: 32px;\n",
              "    }\n",
              "\n",
              "    .colab-df-convert:hover {\n",
              "      background-color: #E2EBFA;\n",
              "      box-shadow: 0px 1px 2px rgba(60, 64, 67, 0.3), 0px 1px 3px 1px rgba(60, 64, 67, 0.15);\n",
              "      fill: #174EA6;\n",
              "    }\n",
              "\n",
              "    [theme=dark] .colab-df-convert {\n",
              "      background-color: #3B4455;\n",
              "      fill: #D2E3FC;\n",
              "    }\n",
              "\n",
              "    [theme=dark] .colab-df-convert:hover {\n",
              "      background-color: #434B5C;\n",
              "      box-shadow: 0px 1px 3px 1px rgba(0, 0, 0, 0.15);\n",
              "      filter: drop-shadow(0px 1px 2px rgba(0, 0, 0, 0.3));\n",
              "      fill: #FFFFFF;\n",
              "    }\n",
              "  </style>\n",
              "\n",
              "      <script>\n",
              "        const buttonEl =\n",
              "          document.querySelector('#df-1ee18b65-a6c8-4930-b740-02712bd255cc button.colab-df-convert');\n",
              "        buttonEl.style.display =\n",
              "          google.colab.kernel.accessAllowed ? 'block' : 'none';\n",
              "\n",
              "        async function convertToInteractive(key) {\n",
              "          const element = document.querySelector('#df-1ee18b65-a6c8-4930-b740-02712bd255cc');\n",
              "          const dataTable =\n",
              "            await google.colab.kernel.invokeFunction('convertToInteractive',\n",
              "                                                     [key], {});\n",
              "          if (!dataTable) return;\n",
              "\n",
              "          const docLinkHtml = 'Like what you see? Visit the ' +\n",
              "            '<a target=\"_blank\" href=https://colab.research.google.com/notebooks/data_table.ipynb>data table notebook</a>'\n",
              "            + ' to learn more about interactive tables.';\n",
              "          element.innerHTML = '';\n",
              "          dataTable['output_type'] = 'display_data';\n",
              "          await google.colab.output.renderOutput(dataTable, element);\n",
              "          const docLink = document.createElement('div');\n",
              "          docLink.innerHTML = docLinkHtml;\n",
              "          element.appendChild(docLink);\n",
              "        }\n",
              "      </script>\n",
              "    </div>\n",
              "  </div>\n",
              "  "
            ]
          },
          "metadata": {},
          "execution_count": 15
        }
      ]
    },
    {
      "cell_type": "code",
      "source": [
        "processed_positive_words_list = []\n",
        "processed_negative_words_list = []\n",
        "\n",
        "with open('positive_words.txt', 'r') as f:\n",
        "    for line in f.readlines():\n",
        "        line = line.replace(\"\\\"\", \"\")\n",
        "    processed_positive_words_list = line.split(',')\n",
        "with open('negative_words.txt', 'r') as f:\n",
        "    for line in f.readlines():\n",
        "        line = line.replace(\"\\\"\", \"\")\n",
        "    processed_negative_words_list = line.split(',')"
      ],
      "metadata": {
        "_uuid": "f5f538ba4f99989f60ed68e633dc74a6e755663b",
        "collapsed": true,
        "jupyter": {
          "outputs_hidden": true
        },
        "trusted": true,
        "id": "Y57NEuBJZeKJ"
      },
      "execution_count": null,
      "outputs": []
    },
    {
      "cell_type": "code",
      "source": [
        "processed_positive_words_list[:10]"
      ],
      "metadata": {
        "_uuid": "7e3188de221ca036da0ba9070321c6f7972c054a",
        "jupyter": {
          "outputs_hidden": true
        },
        "trusted": true,
        "id": "KRBxiKPvZeKJ",
        "colab": {
          "base_uri": "https://localhost:8080/"
        },
        "outputId": "80dd5955-cb39-405b-cdfc-04b5ee041cc3"
      },
      "execution_count": null,
      "outputs": [
        {
          "output_type": "execute_result",
          "data": {
            "text/plain": [
              "['witti',\n",
              " 'littl',\n",
              " 'book',\n",
              " 'make',\n",
              " 'son',\n",
              " 'laugh',\n",
              " 'loud',\n",
              " 'recit',\n",
              " 'car',\n",
              " 'drive']"
            ]
          },
          "metadata": {},
          "execution_count": 17
        }
      ]
    },
    {
      "cell_type": "code",
      "source": [
        "processed_negative_words_list[:10]"
      ],
      "metadata": {
        "_uuid": "e86814774c6204266d249c91ed21fd22dbfda40a",
        "jupyter": {
          "outputs_hidden": true
        },
        "trusted": true,
        "id": "R6mdqzrmZeKK",
        "colab": {
          "base_uri": "https://localhost:8080/"
        },
        "outputId": "67a5d5d8-d3bf-4403-c3eb-37d049f324a4"
      },
      "execution_count": null,
      "outputs": [
        {
          "output_type": "execute_result",
          "data": {
            "text/plain": [
              "['one',\n",
              " 'best',\n",
              " 'children',\n",
              " 'book',\n",
              " 'ever',\n",
              " 'written',\n",
              " 'mini',\n",
              " 'version',\n",
              " 'book',\n",
              " 'portray']"
            ]
          },
          "metadata": {},
          "execution_count": 18
        }
      ]
    },
    {
      "cell_type": "markdown",
      "source": [
        "### BoW Vectorization\n",
        "### Finding the rare words\n",
        "\n",
        "Motivation : Exclude the typos and spelling mistakes."
      ],
      "metadata": {
        "_uuid": "166b663e5b3c3faf3accb4c3b6cdf7cba8c8b3c3",
        "trusted": true,
        "id": "mr_cIMSmZeKK"
      }
    },
    {
      "cell_type": "code",
      "source": [
        "words_counts = pd.Series(processed_all_words).value_counts()\n",
        "rare_words = list(words_counts.where(words_counts.values == 1).dropna().index)"
      ],
      "metadata": {
        "_uuid": "df928f9b9401959425d98190e767a484b9a9430d",
        "collapsed": true,
        "jupyter": {
          "outputs_hidden": true
        },
        "trusted": true,
        "id": "jjfOmWVDZeKK"
      },
      "execution_count": null,
      "outputs": []
    },
    {
      "cell_type": "code",
      "source": [
        "print('No of rare words : ', len(rare_words))\n",
        "print('No of unique words : ', len(words_counts))\n",
        "#print(words_counts.index)\n",
        "words_counts"
      ],
      "metadata": {
        "_uuid": "658017d1b8fe2c05056957f404aac0d9e45a461b",
        "jupyter": {
          "outputs_hidden": true
        },
        "trusted": true,
        "id": "Vw4MlToqZeKK",
        "colab": {
          "base_uri": "https://localhost:8080/"
        },
        "outputId": "92076f48-e0f6-4443-af9e-e7dfd775cec5"
      },
      "execution_count": null,
      "outputs": [
        {
          "output_type": "stream",
          "name": "stdout",
          "text": [
            "No of rare words :  33811\n",
            "No of unique words :  72460\n"
          ]
        },
        {
          "output_type": "execute_result",
          "data": {
            "text/plain": [
              "like              173845\n",
              "tast              166505\n",
              "flavor            131665\n",
              "good              129027\n",
              "product           120980\n",
              "                   ...  \n",
              "cookingwithdog         1\n",
              "fkhvw                  1\n",
              "macau                  1\n",
              "osmol                  1\n",
              "drainpour              1\n",
              "Length: 72460, dtype: int64"
            ]
          },
          "metadata": {},
          "execution_count": 20
        }
      ]
    },
    {
      "cell_type": "markdown",
      "source": [
        "### Rare Words Removal"
      ],
      "metadata": {
        "_uuid": "483220ff4da1fe39530cf48febbcd5c0730f20a1",
        "id": "_AdRFCxUZeKK"
      }
    },
    {
      "cell_type": "code",
      "source": [
        "stopwords = frozenset(rare_words)\n",
        "count_vect = CountVectorizer(stop_words=stopwords)\n",
        "final_counts = count_vect.fit_transform(df['Cleaned_Text'].values)\n",
        "print(\"the shape of BOW vectorizer after rare words removal\",final_counts.get_shape())\n",
        "print(\"the number of unique words after rare words removal\", final_counts.get_shape()[1])"
      ],
      "metadata": {
        "_uuid": "3c0f3f0bdf7ec6b664a6ccbbc3488fe791b69d3b",
        "jupyter": {
          "outputs_hidden": true
        },
        "trusted": true,
        "id": "OQPuREF4ZeKK",
        "colab": {
          "base_uri": "https://localhost:8080/"
        },
        "outputId": "3ccc57ee-8173-4406-e1d0-4985b675b596"
      },
      "execution_count": null,
      "outputs": [
        {
          "output_type": "stream",
          "name": "stdout",
          "text": [
            "the shape of BOW vectorizer after rare words removal (364171, 38649)\n",
            "the number of unique words after rare words removal 38649\n"
          ]
        }
      ]
    },
    {
      "cell_type": "markdown",
      "source": [
        "### T-SNE Visualization: "
      ],
      "metadata": {
        "_uuid": "dca169c342a8c56bcbfea428c9c8c14654adb936",
        "id": "wHm77AWWZeKK"
      }
    },
    {
      "cell_type": "code",
      "source": [
        "# features = final_counts\n",
        "# labels = df['P/N']\n",
        "\n",
        "tsne_model = TSNE(n_components=2, random_state=0)\n",
        "t0 = time.time()\n",
        "tsne_transform = tsne_model.fit_transform(final_counts.todense()).T\n",
        "print('Elapsed time :', time.time()-t0);\n"
      ],
      "metadata": {
        "_uuid": "00c5951391bd2dbaa577b2ee253a7962f4b68fdf",
        "collapsed": true,
        "jupyter": {
          "outputs_hidden": true
        },
        "trusted": true,
        "id": "KxESl09RZeKL"
      },
      "execution_count": null,
      "outputs": []
    },
    {
      "cell_type": "code",
      "source": [
        "# visualizing t-SNE\n",
        "import seaborn as sns\n",
        "import matplotlib.pyplot as plt\n",
        "import numpy as np\n",
        "\n",
        "print(tsne_transform.shape)\n",
        "\n",
        "tsne_data = np.vstack((tsne_transform, display['P/N'])).T\n",
        "tsne_df = pd.DataFrame(data = tsne_data, columns=('Dimention 1', 'Dimention 2', 'Label'))\n",
        "sns.FacetGrid(tsne_df, size = 8, hue = 'Label').map(plt.scatter, 'Dimention 1', 'Dimention 2', marker = '.').add_legend()"
      ],
      "metadata": {
        "_uuid": "e3620cac7dbb0cbae59febaf1d283569f2a01825",
        "collapsed": true,
        "jupyter": {
          "outputs_hidden": true
        },
        "trusted": true,
        "id": "5hSwI5Q-ZeKL"
      },
      "execution_count": null,
      "outputs": []
    }
  ]
}