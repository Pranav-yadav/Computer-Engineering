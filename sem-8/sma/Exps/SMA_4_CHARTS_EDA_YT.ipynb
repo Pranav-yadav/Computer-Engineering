{
  "nbformat": 4,
  "nbformat_minor": 0,
  "metadata": {
    "colab": {
      "provenance": []
    },
    "kernelspec": {
      "name": "python3",
      "display_name": "Python 3"
    },
    "language_info": {
      "name": "python"
    }
  },
  "cells": [
    {
      "cell_type": "code",
      "execution_count": null,
      "metadata": {
        "id": "kMLvxnGsNL0v"
      },
      "outputs": [],
      "source": [
        "import numpy as np\n",
        "import pandas as pd\n",
        "import seaborn as sns\n",
        "import matplotlib.pyplot as plt\n",
        "import plotly.express as px"
      ]
    },
    {
      "cell_type": "code",
      "source": [
        "data = pd.read_csv(\"/content/drive/MyDrive/SEM 8/_SEM_8_/SMA/IN_youtube_trending_data.csv\")\n",
        "data.head(3)"
      ],
      "metadata": {
        "colab": {
          "base_uri": "https://localhost:8080/",
          "height": 485
        },
        "id": "JDUjdXNXQE8W",
        "outputId": "984b03be-b0b1-43f2-ff66-756ee5acd3d8"
      },
      "execution_count": null,
      "outputs": [
        {
          "output_type": "execute_result",
          "data": {
            "text/plain": [
              "      video_id                                              title  \\\n",
              "0  Iot0eF6EoNA  Sadak 2 | Official Trailer | Sanjay | Pooja | ...   \n",
              "1  x-KbnJ9fvJc  Kya Baat Aa : Karan Aujla (Official Video) Tan...   \n",
              "2  KX06ksuS6Xo  Diljit Dosanjh: CLASH (Official) Music Video |...   \n",
              "\n",
              "            publishedAt                 channelId    channelTitle  categoryId  \\\n",
              "0  2020-08-12T04:31:41Z  UCGqvJPRcv7aVFun-eTsatcA    FoxStarHindi          24   \n",
              "1  2020-08-11T09:00:11Z  UCm9SZAl03Rev9sFwloCdz1g  Rehaan Records          10   \n",
              "2  2020-08-11T07:30:02Z  UCZRdNleCgW-BGUJf-bbjzQg  Diljit Dosanjh          10   \n",
              "\n",
              "          trending_date                                               tags  \\\n",
              "0  2020-08-12T00:00:00Z  sadak|sadak 2|mahesh bhatt|vishesh films|pooja...   \n",
              "1  2020-08-12T00:00:00Z                                             [None]   \n",
              "2  2020-08-12T00:00:00Z  clash diljit dosanjh|diljit dosanjh|diljit dos...   \n",
              "\n",
              "   view_count   likes  dislikes  comment_count  \\\n",
              "0     9885899  224925   3979409         350210   \n",
              "1    11308046  655450     33242         405146   \n",
              "2     9140911  296533      6179          30058   \n",
              "\n",
              "                                   thumbnail_link  comments_disabled  \\\n",
              "0  https://i.ytimg.com/vi/Iot0eF6EoNA/default.jpg              False   \n",
              "1  https://i.ytimg.com/vi/x-KbnJ9fvJc/default.jpg              False   \n",
              "2  https://i.ytimg.com/vi/KX06ksuS6Xo/default.jpg              False   \n",
              "\n",
              "   ratings_disabled                                        description  \n",
              "0             False  Three Streams. Three Stories. One Journey. Sta...  \n",
              "1             False  Singer/Lyrics: Karan Aujla Feat Tania Music/ D...  \n",
              "2             False  CLASH official music video performed by DILJIT...  "
            ],
            "text/html": [
              "\n",
              "  <div id=\"df-34ec5505-2edd-4d20-9745-2fc303fc6da1\">\n",
              "    <div class=\"colab-df-container\">\n",
              "      <div>\n",
              "<style scoped>\n",
              "    .dataframe tbody tr th:only-of-type {\n",
              "        vertical-align: middle;\n",
              "    }\n",
              "\n",
              "    .dataframe tbody tr th {\n",
              "        vertical-align: top;\n",
              "    }\n",
              "\n",
              "    .dataframe thead th {\n",
              "        text-align: right;\n",
              "    }\n",
              "</style>\n",
              "<table border=\"1\" class=\"dataframe\">\n",
              "  <thead>\n",
              "    <tr style=\"text-align: right;\">\n",
              "      <th></th>\n",
              "      <th>video_id</th>\n",
              "      <th>title</th>\n",
              "      <th>publishedAt</th>\n",
              "      <th>channelId</th>\n",
              "      <th>channelTitle</th>\n",
              "      <th>categoryId</th>\n",
              "      <th>trending_date</th>\n",
              "      <th>tags</th>\n",
              "      <th>view_count</th>\n",
              "      <th>likes</th>\n",
              "      <th>dislikes</th>\n",
              "      <th>comment_count</th>\n",
              "      <th>thumbnail_link</th>\n",
              "      <th>comments_disabled</th>\n",
              "      <th>ratings_disabled</th>\n",
              "      <th>description</th>\n",
              "    </tr>\n",
              "  </thead>\n",
              "  <tbody>\n",
              "    <tr>\n",
              "      <th>0</th>\n",
              "      <td>Iot0eF6EoNA</td>\n",
              "      <td>Sadak 2 | Official Trailer | Sanjay | Pooja | ...</td>\n",
              "      <td>2020-08-12T04:31:41Z</td>\n",
              "      <td>UCGqvJPRcv7aVFun-eTsatcA</td>\n",
              "      <td>FoxStarHindi</td>\n",
              "      <td>24</td>\n",
              "      <td>2020-08-12T00:00:00Z</td>\n",
              "      <td>sadak|sadak 2|mahesh bhatt|vishesh films|pooja...</td>\n",
              "      <td>9885899</td>\n",
              "      <td>224925</td>\n",
              "      <td>3979409</td>\n",
              "      <td>350210</td>\n",
              "      <td>https://i.ytimg.com/vi/Iot0eF6EoNA/default.jpg</td>\n",
              "      <td>False</td>\n",
              "      <td>False</td>\n",
              "      <td>Three Streams. Three Stories. One Journey. Sta...</td>\n",
              "    </tr>\n",
              "    <tr>\n",
              "      <th>1</th>\n",
              "      <td>x-KbnJ9fvJc</td>\n",
              "      <td>Kya Baat Aa : Karan Aujla (Official Video) Tan...</td>\n",
              "      <td>2020-08-11T09:00:11Z</td>\n",
              "      <td>UCm9SZAl03Rev9sFwloCdz1g</td>\n",
              "      <td>Rehaan Records</td>\n",
              "      <td>10</td>\n",
              "      <td>2020-08-12T00:00:00Z</td>\n",
              "      <td>[None]</td>\n",
              "      <td>11308046</td>\n",
              "      <td>655450</td>\n",
              "      <td>33242</td>\n",
              "      <td>405146</td>\n",
              "      <td>https://i.ytimg.com/vi/x-KbnJ9fvJc/default.jpg</td>\n",
              "      <td>False</td>\n",
              "      <td>False</td>\n",
              "      <td>Singer/Lyrics: Karan Aujla Feat Tania Music/ D...</td>\n",
              "    </tr>\n",
              "    <tr>\n",
              "      <th>2</th>\n",
              "      <td>KX06ksuS6Xo</td>\n",
              "      <td>Diljit Dosanjh: CLASH (Official) Music Video |...</td>\n",
              "      <td>2020-08-11T07:30:02Z</td>\n",
              "      <td>UCZRdNleCgW-BGUJf-bbjzQg</td>\n",
              "      <td>Diljit Dosanjh</td>\n",
              "      <td>10</td>\n",
              "      <td>2020-08-12T00:00:00Z</td>\n",
              "      <td>clash diljit dosanjh|diljit dosanjh|diljit dos...</td>\n",
              "      <td>9140911</td>\n",
              "      <td>296533</td>\n",
              "      <td>6179</td>\n",
              "      <td>30058</td>\n",
              "      <td>https://i.ytimg.com/vi/KX06ksuS6Xo/default.jpg</td>\n",
              "      <td>False</td>\n",
              "      <td>False</td>\n",
              "      <td>CLASH official music video performed by DILJIT...</td>\n",
              "    </tr>\n",
              "  </tbody>\n",
              "</table>\n",
              "</div>\n",
              "      <button class=\"colab-df-convert\" onclick=\"convertToInteractive('df-34ec5505-2edd-4d20-9745-2fc303fc6da1')\"\n",
              "              title=\"Convert this dataframe to an interactive table.\"\n",
              "              style=\"display:none;\">\n",
              "        \n",
              "  <svg xmlns=\"http://www.w3.org/2000/svg\" height=\"24px\"viewBox=\"0 0 24 24\"\n",
              "       width=\"24px\">\n",
              "    <path d=\"M0 0h24v24H0V0z\" fill=\"none\"/>\n",
              "    <path d=\"M18.56 5.44l.94 2.06.94-2.06 2.06-.94-2.06-.94-.94-2.06-.94 2.06-2.06.94zm-11 1L8.5 8.5l.94-2.06 2.06-.94-2.06-.94L8.5 2.5l-.94 2.06-2.06.94zm10 10l.94 2.06.94-2.06 2.06-.94-2.06-.94-.94-2.06-.94 2.06-2.06.94z\"/><path d=\"M17.41 7.96l-1.37-1.37c-.4-.4-.92-.59-1.43-.59-.52 0-1.04.2-1.43.59L10.3 9.45l-7.72 7.72c-.78.78-.78 2.05 0 2.83L4 21.41c.39.39.9.59 1.41.59.51 0 1.02-.2 1.41-.59l7.78-7.78 2.81-2.81c.8-.78.8-2.07 0-2.86zM5.41 20L4 18.59l7.72-7.72 1.47 1.35L5.41 20z\"/>\n",
              "  </svg>\n",
              "      </button>\n",
              "      \n",
              "  <style>\n",
              "    .colab-df-container {\n",
              "      display:flex;\n",
              "      flex-wrap:wrap;\n",
              "      gap: 12px;\n",
              "    }\n",
              "\n",
              "    .colab-df-convert {\n",
              "      background-color: #E8F0FE;\n",
              "      border: none;\n",
              "      border-radius: 50%;\n",
              "      cursor: pointer;\n",
              "      display: none;\n",
              "      fill: #1967D2;\n",
              "      height: 32px;\n",
              "      padding: 0 0 0 0;\n",
              "      width: 32px;\n",
              "    }\n",
              "\n",
              "    .colab-df-convert:hover {\n",
              "      background-color: #E2EBFA;\n",
              "      box-shadow: 0px 1px 2px rgba(60, 64, 67, 0.3), 0px 1px 3px 1px rgba(60, 64, 67, 0.15);\n",
              "      fill: #174EA6;\n",
              "    }\n",
              "\n",
              "    [theme=dark] .colab-df-convert {\n",
              "      background-color: #3B4455;\n",
              "      fill: #D2E3FC;\n",
              "    }\n",
              "\n",
              "    [theme=dark] .colab-df-convert:hover {\n",
              "      background-color: #434B5C;\n",
              "      box-shadow: 0px 1px 3px 1px rgba(0, 0, 0, 0.15);\n",
              "      filter: drop-shadow(0px 1px 2px rgba(0, 0, 0, 0.3));\n",
              "      fill: #FFFFFF;\n",
              "    }\n",
              "  </style>\n",
              "\n",
              "      <script>\n",
              "        const buttonEl =\n",
              "          document.querySelector('#df-34ec5505-2edd-4d20-9745-2fc303fc6da1 button.colab-df-convert');\n",
              "        buttonEl.style.display =\n",
              "          google.colab.kernel.accessAllowed ? 'block' : 'none';\n",
              "\n",
              "        async function convertToInteractive(key) {\n",
              "          const element = document.querySelector('#df-34ec5505-2edd-4d20-9745-2fc303fc6da1');\n",
              "          const dataTable =\n",
              "            await google.colab.kernel.invokeFunction('convertToInteractive',\n",
              "                                                     [key], {});\n",
              "          if (!dataTable) return;\n",
              "\n",
              "          const docLinkHtml = 'Like what you see? Visit the ' +\n",
              "            '<a target=\"_blank\" href=https://colab.research.google.com/notebooks/data_table.ipynb>data table notebook</a>'\n",
              "            + ' to learn more about interactive tables.';\n",
              "          element.innerHTML = '';\n",
              "          dataTable['output_type'] = 'display_data';\n",
              "          await google.colab.output.renderOutput(dataTable, element);\n",
              "          const docLink = document.createElement('div');\n",
              "          docLink.innerHTML = docLinkHtml;\n",
              "          element.appendChild(docLink);\n",
              "        }\n",
              "      </script>\n",
              "    </div>\n",
              "  </div>\n",
              "  "
            ]
          },
          "metadata": {},
          "execution_count": 2
        }
      ]
    },
    {
      "cell_type": "code",
      "source": [
        "data.info()"
      ],
      "metadata": {
        "colab": {
          "base_uri": "https://localhost:8080/"
        },
        "id": "jxZUk5Abl-cl",
        "outputId": "4258a7a2-721d-4b2d-bc8a-d0d27ebf6860"
      },
      "execution_count": null,
      "outputs": [
        {
          "output_type": "stream",
          "name": "stdout",
          "text": [
            "<class 'pandas.core.frame.DataFrame'>\n",
            "RangeIndex: 8429 entries, 0 to 8428\n",
            "Data columns (total 16 columns):\n",
            " #   Column             Non-Null Count  Dtype \n",
            "---  ------             --------------  ----- \n",
            " 0   video_id           8429 non-null   object\n",
            " 1   title              8429 non-null   object\n",
            " 2   publishedAt        8429 non-null   object\n",
            " 3   channelId          8429 non-null   object\n",
            " 4   channelTitle       8429 non-null   object\n",
            " 5   categoryId         8429 non-null   int64 \n",
            " 6   trending_date      8429 non-null   object\n",
            " 7   tags               8429 non-null   object\n",
            " 8   view_count         8429 non-null   int64 \n",
            " 9   likes              8429 non-null   int64 \n",
            " 10  dislikes           8429 non-null   int64 \n",
            " 11  comment_count      8429 non-null   int64 \n",
            " 12  thumbnail_link     8429 non-null   object\n",
            " 13  comments_disabled  8429 non-null   bool  \n",
            " 14  ratings_disabled   8429 non-null   bool  \n",
            " 15  description        8359 non-null   object\n",
            "dtypes: bool(2), int64(5), object(9)\n",
            "memory usage: 938.5+ KB\n"
          ]
        }
      ]
    },
    {
      "cell_type": "code",
      "source": [
        "data.shape"
      ],
      "metadata": {
        "colab": {
          "base_uri": "https://localhost:8080/"
        },
        "id": "2FUcLxtKmMf9",
        "outputId": "797b7f41-0ab4-459e-a2c8-af639932c7d7"
      },
      "execution_count": null,
      "outputs": [
        {
          "output_type": "execute_result",
          "data": {
            "text/plain": [
              "(8429, 16)"
            ]
          },
          "metadata": {},
          "execution_count": 5
        }
      ]
    },
    {
      "cell_type": "code",
      "source": [
        "data.size"
      ],
      "metadata": {
        "colab": {
          "base_uri": "https://localhost:8080/"
        },
        "id": "DdMgrKyYmZTM",
        "outputId": "0f49a47c-0f62-4a53-bb25-8e6b0739df5c"
      },
      "execution_count": null,
      "outputs": [
        {
          "output_type": "execute_result",
          "data": {
            "text/plain": [
              "134864"
            ]
          },
          "metadata": {},
          "execution_count": 6
        }
      ]
    },
    {
      "cell_type": "code",
      "source": [
        "data.describe()"
      ],
      "metadata": {
        "colab": {
          "base_uri": "https://localhost:8080/",
          "height": 300
        },
        "id": "SIBGUz5Ymg1s",
        "outputId": "9800d00a-d34b-4500-c661-19d384ac5bef"
      },
      "execution_count": null,
      "outputs": [
        {
          "output_type": "execute_result",
          "data": {
            "text/plain": [
              "        categoryId    view_count         likes      dislikes  comment_count\n",
              "count  8429.000000  8.429000e+03  8.429000e+03  8.429000e+03   8.429000e+03\n",
              "mean     20.709218  2.776359e+06  1.496924e+05  2.428868e+04   2.676713e+04\n",
              "std       6.274532  9.543622e+06  6.824562e+05  3.908469e+05   2.381305e+05\n",
              "min       1.000000  1.677500e+04  0.000000e+00  0.000000e+00   0.000000e+00\n",
              "25%      19.000000  3.902320e+05  1.203300e+04  5.600000e+02   7.160000e+02\n",
              "50%      24.000000  9.090240e+05  3.428200e+04  1.504000e+03   2.354000e+03\n",
              "75%      24.000000  2.161158e+06  9.819200e+04  4.175000e+03   7.208000e+03\n",
              "max      29.000000  2.539960e+08  1.611524e+07  1.234147e+07   6.249727e+06"
            ],
            "text/html": [
              "\n",
              "  <div id=\"df-744149f3-41c2-413d-a70f-c7a187833502\">\n",
              "    <div class=\"colab-df-container\">\n",
              "      <div>\n",
              "<style scoped>\n",
              "    .dataframe tbody tr th:only-of-type {\n",
              "        vertical-align: middle;\n",
              "    }\n",
              "\n",
              "    .dataframe tbody tr th {\n",
              "        vertical-align: top;\n",
              "    }\n",
              "\n",
              "    .dataframe thead th {\n",
              "        text-align: right;\n",
              "    }\n",
              "</style>\n",
              "<table border=\"1\" class=\"dataframe\">\n",
              "  <thead>\n",
              "    <tr style=\"text-align: right;\">\n",
              "      <th></th>\n",
              "      <th>categoryId</th>\n",
              "      <th>view_count</th>\n",
              "      <th>likes</th>\n",
              "      <th>dislikes</th>\n",
              "      <th>comment_count</th>\n",
              "    </tr>\n",
              "  </thead>\n",
              "  <tbody>\n",
              "    <tr>\n",
              "      <th>count</th>\n",
              "      <td>8429.000000</td>\n",
              "      <td>8.429000e+03</td>\n",
              "      <td>8.429000e+03</td>\n",
              "      <td>8.429000e+03</td>\n",
              "      <td>8.429000e+03</td>\n",
              "    </tr>\n",
              "    <tr>\n",
              "      <th>mean</th>\n",
              "      <td>20.709218</td>\n",
              "      <td>2.776359e+06</td>\n",
              "      <td>1.496924e+05</td>\n",
              "      <td>2.428868e+04</td>\n",
              "      <td>2.676713e+04</td>\n",
              "    </tr>\n",
              "    <tr>\n",
              "      <th>std</th>\n",
              "      <td>6.274532</td>\n",
              "      <td>9.543622e+06</td>\n",
              "      <td>6.824562e+05</td>\n",
              "      <td>3.908469e+05</td>\n",
              "      <td>2.381305e+05</td>\n",
              "    </tr>\n",
              "    <tr>\n",
              "      <th>min</th>\n",
              "      <td>1.000000</td>\n",
              "      <td>1.677500e+04</td>\n",
              "      <td>0.000000e+00</td>\n",
              "      <td>0.000000e+00</td>\n",
              "      <td>0.000000e+00</td>\n",
              "    </tr>\n",
              "    <tr>\n",
              "      <th>25%</th>\n",
              "      <td>19.000000</td>\n",
              "      <td>3.902320e+05</td>\n",
              "      <td>1.203300e+04</td>\n",
              "      <td>5.600000e+02</td>\n",
              "      <td>7.160000e+02</td>\n",
              "    </tr>\n",
              "    <tr>\n",
              "      <th>50%</th>\n",
              "      <td>24.000000</td>\n",
              "      <td>9.090240e+05</td>\n",
              "      <td>3.428200e+04</td>\n",
              "      <td>1.504000e+03</td>\n",
              "      <td>2.354000e+03</td>\n",
              "    </tr>\n",
              "    <tr>\n",
              "      <th>75%</th>\n",
              "      <td>24.000000</td>\n",
              "      <td>2.161158e+06</td>\n",
              "      <td>9.819200e+04</td>\n",
              "      <td>4.175000e+03</td>\n",
              "      <td>7.208000e+03</td>\n",
              "    </tr>\n",
              "    <tr>\n",
              "      <th>max</th>\n",
              "      <td>29.000000</td>\n",
              "      <td>2.539960e+08</td>\n",
              "      <td>1.611524e+07</td>\n",
              "      <td>1.234147e+07</td>\n",
              "      <td>6.249727e+06</td>\n",
              "    </tr>\n",
              "  </tbody>\n",
              "</table>\n",
              "</div>\n",
              "      <button class=\"colab-df-convert\" onclick=\"convertToInteractive('df-744149f3-41c2-413d-a70f-c7a187833502')\"\n",
              "              title=\"Convert this dataframe to an interactive table.\"\n",
              "              style=\"display:none;\">\n",
              "        \n",
              "  <svg xmlns=\"http://www.w3.org/2000/svg\" height=\"24px\"viewBox=\"0 0 24 24\"\n",
              "       width=\"24px\">\n",
              "    <path d=\"M0 0h24v24H0V0z\" fill=\"none\"/>\n",
              "    <path d=\"M18.56 5.44l.94 2.06.94-2.06 2.06-.94-2.06-.94-.94-2.06-.94 2.06-2.06.94zm-11 1L8.5 8.5l.94-2.06 2.06-.94-2.06-.94L8.5 2.5l-.94 2.06-2.06.94zm10 10l.94 2.06.94-2.06 2.06-.94-2.06-.94-.94-2.06-.94 2.06-2.06.94z\"/><path d=\"M17.41 7.96l-1.37-1.37c-.4-.4-.92-.59-1.43-.59-.52 0-1.04.2-1.43.59L10.3 9.45l-7.72 7.72c-.78.78-.78 2.05 0 2.83L4 21.41c.39.39.9.59 1.41.59.51 0 1.02-.2 1.41-.59l7.78-7.78 2.81-2.81c.8-.78.8-2.07 0-2.86zM5.41 20L4 18.59l7.72-7.72 1.47 1.35L5.41 20z\"/>\n",
              "  </svg>\n",
              "      </button>\n",
              "      \n",
              "  <style>\n",
              "    .colab-df-container {\n",
              "      display:flex;\n",
              "      flex-wrap:wrap;\n",
              "      gap: 12px;\n",
              "    }\n",
              "\n",
              "    .colab-df-convert {\n",
              "      background-color: #E8F0FE;\n",
              "      border: none;\n",
              "      border-radius: 50%;\n",
              "      cursor: pointer;\n",
              "      display: none;\n",
              "      fill: #1967D2;\n",
              "      height: 32px;\n",
              "      padding: 0 0 0 0;\n",
              "      width: 32px;\n",
              "    }\n",
              "\n",
              "    .colab-df-convert:hover {\n",
              "      background-color: #E2EBFA;\n",
              "      box-shadow: 0px 1px 2px rgba(60, 64, 67, 0.3), 0px 1px 3px 1px rgba(60, 64, 67, 0.15);\n",
              "      fill: #174EA6;\n",
              "    }\n",
              "\n",
              "    [theme=dark] .colab-df-convert {\n",
              "      background-color: #3B4455;\n",
              "      fill: #D2E3FC;\n",
              "    }\n",
              "\n",
              "    [theme=dark] .colab-df-convert:hover {\n",
              "      background-color: #434B5C;\n",
              "      box-shadow: 0px 1px 3px 1px rgba(0, 0, 0, 0.15);\n",
              "      filter: drop-shadow(0px 1px 2px rgba(0, 0, 0, 0.3));\n",
              "      fill: #FFFFFF;\n",
              "    }\n",
              "  </style>\n",
              "\n",
              "      <script>\n",
              "        const buttonEl =\n",
              "          document.querySelector('#df-744149f3-41c2-413d-a70f-c7a187833502 button.colab-df-convert');\n",
              "        buttonEl.style.display =\n",
              "          google.colab.kernel.accessAllowed ? 'block' : 'none';\n",
              "\n",
              "        async function convertToInteractive(key) {\n",
              "          const element = document.querySelector('#df-744149f3-41c2-413d-a70f-c7a187833502');\n",
              "          const dataTable =\n",
              "            await google.colab.kernel.invokeFunction('convertToInteractive',\n",
              "                                                     [key], {});\n",
              "          if (!dataTable) return;\n",
              "\n",
              "          const docLinkHtml = 'Like what you see? Visit the ' +\n",
              "            '<a target=\"_blank\" href=https://colab.research.google.com/notebooks/data_table.ipynb>data table notebook</a>'\n",
              "            + ' to learn more about interactive tables.';\n",
              "          element.innerHTML = '';\n",
              "          dataTable['output_type'] = 'display_data';\n",
              "          await google.colab.output.renderOutput(dataTable, element);\n",
              "          const docLink = document.createElement('div');\n",
              "          docLink.innerHTML = docLinkHtml;\n",
              "          element.appendChild(docLink);\n",
              "        }\n",
              "      </script>\n",
              "    </div>\n",
              "  </div>\n",
              "  "
            ]
          },
          "metadata": {},
          "execution_count": 7
        }
      ]
    },
    {
      "cell_type": "code",
      "source": [
        "data.sample()"
      ],
      "metadata": {
        "colab": {
          "base_uri": "https://localhost:8080/",
          "height": 214
        },
        "id": "V3uvcBC7mto0",
        "outputId": "ab397add-1ae9-4b7d-a712-7cbb49544190"
      },
      "execution_count": null,
      "outputs": [
        {
          "output_type": "execute_result",
          "data": {
            "text/plain": [
              "         video_id                         title           publishedAt  \\\n",
              "4986  ltTooIl8f9Q  Life after PUBG BAN | Funcho  2020-09-05T15:15:01Z   \n",
              "\n",
              "                     channelId channelTitle  categoryId         trending_date  \\\n",
              "4986  UCB_l9j53BhS-UNxXO4y282A       Funcho          23  2020-09-07T00:00:00Z   \n",
              "\n",
              "                                                   tags  view_count  likes  \\\n",
              "4986  pubg|pubg ban|pubg mobile|pubg funny|pubg vide...      865880  94188   \n",
              "\n",
              "      dislikes  comment_count                                  thumbnail_link  \\\n",
              "4986      3614           9776  https://i.ytimg.com/vi/ltTooIl8f9Q/default.jpg   \n",
              "\n",
              "      comments_disabled  ratings_disabled  \\\n",
              "4986              False             False   \n",
              "\n",
              "                                            description  \n",
              "4986  Follow Funcho on Instagram - https://www.insta...  "
            ],
            "text/html": [
              "\n",
              "  <div id=\"df-2ec8ac5a-afbc-4bd1-aa15-f31b69442bdb\">\n",
              "    <div class=\"colab-df-container\">\n",
              "      <div>\n",
              "<style scoped>\n",
              "    .dataframe tbody tr th:only-of-type {\n",
              "        vertical-align: middle;\n",
              "    }\n",
              "\n",
              "    .dataframe tbody tr th {\n",
              "        vertical-align: top;\n",
              "    }\n",
              "\n",
              "    .dataframe thead th {\n",
              "        text-align: right;\n",
              "    }\n",
              "</style>\n",
              "<table border=\"1\" class=\"dataframe\">\n",
              "  <thead>\n",
              "    <tr style=\"text-align: right;\">\n",
              "      <th></th>\n",
              "      <th>video_id</th>\n",
              "      <th>title</th>\n",
              "      <th>publishedAt</th>\n",
              "      <th>channelId</th>\n",
              "      <th>channelTitle</th>\n",
              "      <th>categoryId</th>\n",
              "      <th>trending_date</th>\n",
              "      <th>tags</th>\n",
              "      <th>view_count</th>\n",
              "      <th>likes</th>\n",
              "      <th>dislikes</th>\n",
              "      <th>comment_count</th>\n",
              "      <th>thumbnail_link</th>\n",
              "      <th>comments_disabled</th>\n",
              "      <th>ratings_disabled</th>\n",
              "      <th>description</th>\n",
              "    </tr>\n",
              "  </thead>\n",
              "  <tbody>\n",
              "    <tr>\n",
              "      <th>4986</th>\n",
              "      <td>ltTooIl8f9Q</td>\n",
              "      <td>Life after PUBG BAN | Funcho</td>\n",
              "      <td>2020-09-05T15:15:01Z</td>\n",
              "      <td>UCB_l9j53BhS-UNxXO4y282A</td>\n",
              "      <td>Funcho</td>\n",
              "      <td>23</td>\n",
              "      <td>2020-09-07T00:00:00Z</td>\n",
              "      <td>pubg|pubg ban|pubg mobile|pubg funny|pubg vide...</td>\n",
              "      <td>865880</td>\n",
              "      <td>94188</td>\n",
              "      <td>3614</td>\n",
              "      <td>9776</td>\n",
              "      <td>https://i.ytimg.com/vi/ltTooIl8f9Q/default.jpg</td>\n",
              "      <td>False</td>\n",
              "      <td>False</td>\n",
              "      <td>Follow Funcho on Instagram - https://www.insta...</td>\n",
              "    </tr>\n",
              "  </tbody>\n",
              "</table>\n",
              "</div>\n",
              "      <button class=\"colab-df-convert\" onclick=\"convertToInteractive('df-2ec8ac5a-afbc-4bd1-aa15-f31b69442bdb')\"\n",
              "              title=\"Convert this dataframe to an interactive table.\"\n",
              "              style=\"display:none;\">\n",
              "        \n",
              "  <svg xmlns=\"http://www.w3.org/2000/svg\" height=\"24px\"viewBox=\"0 0 24 24\"\n",
              "       width=\"24px\">\n",
              "    <path d=\"M0 0h24v24H0V0z\" fill=\"none\"/>\n",
              "    <path d=\"M18.56 5.44l.94 2.06.94-2.06 2.06-.94-2.06-.94-.94-2.06-.94 2.06-2.06.94zm-11 1L8.5 8.5l.94-2.06 2.06-.94-2.06-.94L8.5 2.5l-.94 2.06-2.06.94zm10 10l.94 2.06.94-2.06 2.06-.94-2.06-.94-.94-2.06-.94 2.06-2.06.94z\"/><path d=\"M17.41 7.96l-1.37-1.37c-.4-.4-.92-.59-1.43-.59-.52 0-1.04.2-1.43.59L10.3 9.45l-7.72 7.72c-.78.78-.78 2.05 0 2.83L4 21.41c.39.39.9.59 1.41.59.51 0 1.02-.2 1.41-.59l7.78-7.78 2.81-2.81c.8-.78.8-2.07 0-2.86zM5.41 20L4 18.59l7.72-7.72 1.47 1.35L5.41 20z\"/>\n",
              "  </svg>\n",
              "      </button>\n",
              "      \n",
              "  <style>\n",
              "    .colab-df-container {\n",
              "      display:flex;\n",
              "      flex-wrap:wrap;\n",
              "      gap: 12px;\n",
              "    }\n",
              "\n",
              "    .colab-df-convert {\n",
              "      background-color: #E8F0FE;\n",
              "      border: none;\n",
              "      border-radius: 50%;\n",
              "      cursor: pointer;\n",
              "      display: none;\n",
              "      fill: #1967D2;\n",
              "      height: 32px;\n",
              "      padding: 0 0 0 0;\n",
              "      width: 32px;\n",
              "    }\n",
              "\n",
              "    .colab-df-convert:hover {\n",
              "      background-color: #E2EBFA;\n",
              "      box-shadow: 0px 1px 2px rgba(60, 64, 67, 0.3), 0px 1px 3px 1px rgba(60, 64, 67, 0.15);\n",
              "      fill: #174EA6;\n",
              "    }\n",
              "\n",
              "    [theme=dark] .colab-df-convert {\n",
              "      background-color: #3B4455;\n",
              "      fill: #D2E3FC;\n",
              "    }\n",
              "\n",
              "    [theme=dark] .colab-df-convert:hover {\n",
              "      background-color: #434B5C;\n",
              "      box-shadow: 0px 1px 3px 1px rgba(0, 0, 0, 0.15);\n",
              "      filter: drop-shadow(0px 1px 2px rgba(0, 0, 0, 0.3));\n",
              "      fill: #FFFFFF;\n",
              "    }\n",
              "  </style>\n",
              "\n",
              "      <script>\n",
              "        const buttonEl =\n",
              "          document.querySelector('#df-2ec8ac5a-afbc-4bd1-aa15-f31b69442bdb button.colab-df-convert');\n",
              "        buttonEl.style.display =\n",
              "          google.colab.kernel.accessAllowed ? 'block' : 'none';\n",
              "\n",
              "        async function convertToInteractive(key) {\n",
              "          const element = document.querySelector('#df-2ec8ac5a-afbc-4bd1-aa15-f31b69442bdb');\n",
              "          const dataTable =\n",
              "            await google.colab.kernel.invokeFunction('convertToInteractive',\n",
              "                                                     [key], {});\n",
              "          if (!dataTable) return;\n",
              "\n",
              "          const docLinkHtml = 'Like what you see? Visit the ' +\n",
              "            '<a target=\"_blank\" href=https://colab.research.google.com/notebooks/data_table.ipynb>data table notebook</a>'\n",
              "            + ' to learn more about interactive tables.';\n",
              "          element.innerHTML = '';\n",
              "          dataTable['output_type'] = 'display_data';\n",
              "          await google.colab.output.renderOutput(dataTable, element);\n",
              "          const docLink = document.createElement('div');\n",
              "          docLink.innerHTML = docLinkHtml;\n",
              "          element.appendChild(docLink);\n",
              "        }\n",
              "      </script>\n",
              "    </div>\n",
              "  </div>\n",
              "  "
            ]
          },
          "metadata": {},
          "execution_count": 8
        }
      ]
    },
    {
      "cell_type": "code",
      "source": [
        "data.nunique()"
      ],
      "metadata": {
        "colab": {
          "base_uri": "https://localhost:8080/"
        },
        "id": "dpgRSRYDnCMb",
        "outputId": "42ade1ba-6430-401b-9686-77446c1bac51"
      },
      "execution_count": null,
      "outputs": [
        {
          "output_type": "execute_result",
          "data": {
            "text/plain": [
              "video_id             2377\n",
              "title                2421\n",
              "publishedAt          2354\n",
              "channelId             838\n",
              "channelTitle          839\n",
              "categoryId             14\n",
              "trending_date          44\n",
              "tags                 1850\n",
              "view_count           8412\n",
              "likes                8008\n",
              "dislikes             4712\n",
              "comment_count        5521\n",
              "thumbnail_link       2377\n",
              "comments_disabled       2\n",
              "ratings_disabled        2\n",
              "description          2305\n",
              "dtype: int64"
            ]
          },
          "metadata": {},
          "execution_count": 9
        }
      ]
    },
    {
      "cell_type": "code",
      "source": [
        "data.columns"
      ],
      "metadata": {
        "id": "I8SJLQzknMYk",
        "outputId": "d90b327f-5071-4f57-84cb-6e7d9e41b654",
        "colab": {
          "base_uri": "https://localhost:8080/"
        }
      },
      "execution_count": null,
      "outputs": [
        {
          "output_type": "execute_result",
          "data": {
            "text/plain": [
              "Index(['video_id', 'title', 'publishedAt', 'channelId', 'channelTitle',\n",
              "       'categoryId', 'trending_date', 'tags', 'view_count', 'likes',\n",
              "       'dislikes', 'comment_count', 'thumbnail_link', 'comments_disabled',\n",
              "       'ratings_disabled', 'description'],\n",
              "      dtype='object')"
            ]
          },
          "metadata": {},
          "execution_count": 10
        }
      ]
    },
    {
      "cell_type": "code",
      "source": [
        "data.isnull().sum()"
      ],
      "metadata": {
        "colab": {
          "base_uri": "https://localhost:8080/"
        },
        "id": "3a7HH9TeTfjz",
        "outputId": "20564cff-cff8-4218-f588-8318ac060394"
      },
      "execution_count": null,
      "outputs": [
        {
          "output_type": "execute_result",
          "data": {
            "text/plain": [
              "video_id              0\n",
              "title                 0\n",
              "publishedAt           0\n",
              "channelId             0\n",
              "channelTitle          0\n",
              "categoryId            0\n",
              "trending_date         0\n",
              "tags                  0\n",
              "view_count            0\n",
              "likes                 0\n",
              "dislikes              0\n",
              "comment_count         0\n",
              "thumbnail_link        0\n",
              "comments_disabled     0\n",
              "ratings_disabled      0\n",
              "description          70\n",
              "dtype: int64"
            ]
          },
          "metadata": {},
          "execution_count": 11
        }
      ]
    },
    {
      "cell_type": "markdown",
      "source": [
        "**1. HISTOGRAM**"
      ],
      "metadata": {
        "id": "hvst2RHkV4_5"
      }
    },
    {
      "cell_type": "code",
      "source": [
        "sns.distplot(data['categoryId'].dropna(), kde=False, bins=30)\n",
        "plt.xlabel('Category ID')\n",
        "plt.ylabel('Count')\n",
        "plt.title('Distribution of Youtube Video based on Category ID Age')\n",
        "plt.show()"
      ],
      "metadata": {
        "colab": {
          "base_uri": "https://localhost:8080/",
          "height": 295
        },
        "id": "5nb-uwVcVytA",
        "outputId": "e16c5c48-4d54-4459-90ae-2a5cfacf8cb2"
      },
      "execution_count": null,
      "outputs": [
        {
          "output_type": "display_data",
          "data": {
            "text/plain": [
              "<Figure size 432x288 with 1 Axes>"
            ],
            "image/png": "[encoded data removed]"
          },
          "metadata": {
            "needs_background": "light"
          }
        }
      ]
    },
    {
      "cell_type": "markdown",
      "source": [
        "**2. Bar Plot**"
      ],
      "metadata": {
        "id": "gorfOt2BWX3-"
      }
    },
    {
      "cell_type": "code",
      "source": [
        "class_counts = data['categoryId'].value_counts()\n",
        "\n",
        "# Plot the number of passengers in each class\n",
        "sns.barplot(class_counts.index, class_counts.values)\n",
        "plt.xlabel('Category ID')\n",
        "plt.ylabel('Count')\n",
        "plt.title('Number of Videos in Each Category')\n",
        "plt.show()"
      ],
      "metadata": {
        "id": "It3sPJfRWc49",
        "colab": {
          "base_uri": "https://localhost:8080/",
          "height": 350
        },
        "outputId": "fcfb2b8d-1812-479e-cc7f-375685c024f6"
      },
      "execution_count": null,
      "outputs": [
        {
          "output_type": "stream",
          "name": "stderr",
          "text": [
            "/usr/local/lib/python3.8/dist-packages/seaborn/_decorators.py:36: FutureWarning: Pass the following variables as keyword args: x, y. From version 0.12, the only valid positional argument will be `data`, and passing other arguments without an explicit keyword will result in an error or misinterpretation.\n",
            "  warnings.warn(\n"
          ]
        },
        {
          "output_type": "display_data",
          "data": {
            "text/plain": [
              "<Figure size 432x288 with 1 Axes>"
            ],
            "image/png": "[encoded data removed]"
          },
          "metadata": {
            "needs_background": "light"
          }
        }
      ]
    },
    {
      "cell_type": "markdown",
      "source": [
        "**3. Line Chart**"
      ],
      "metadata": {
        "id": "GGnViGKDb3Pi"
      }
    },
    {
      "cell_type": "code",
      "source": [
        "class_fares = data.groupby('categoryId')['likes'].mean()\n",
        "\n",
        "# Plot the average fare paid by passengers in each class\n",
        "plt.plot(class_fares.index, class_fares.values, marker='o')\n",
        "plt.xlabel('Category ID')\n",
        "plt.ylabel('Average Likes')\n",
        "plt.title('Average Likes in Each category')\n",
        "plt.xticks(class_fares.index)\n",
        "plt.grid(True)\n",
        "plt.show()"
      ],
      "metadata": {
        "colab": {
          "base_uri": "https://localhost:8080/",
          "height": 295
        },
        "id": "0og3ut--bycb",
        "outputId": "9ffe23f7-3867-4c17-a423-a698654af256"
      },
      "execution_count": null,
      "outputs": [
        {
          "output_type": "display_data",
          "data": {
            "text/plain": [
              "<Figure size 432x288 with 1 Axes>"
            ],
            "image/png": "[encoded data removed]"
          },
          "metadata": {
            "needs_background": "light"
          }
        }
      ]
    },
    {
      "cell_type": "markdown",
      "source": [
        "**4. Pie Chart**"
      ],
      "metadata": {
        "id": "HSts2OPbb9Fi"
      }
    },
    {
      "cell_type": "code",
      "source": [
        "class_counts = data['categoryId'].value_counts()\n",
        "\n",
        "# Plot the number of passengers in each class as a pie chart\n",
        "plt.pie(class_counts.values, labels=class_counts.index, autopct='%.1f%%')\n",
        "plt.title('Proportion of Videos in Each Category')\n",
        "plt.axis('equal')\n",
        "plt.show()"
      ],
      "metadata": {
        "colab": {
          "base_uri": "https://localhost:8080/",
          "height": 268
        },
        "id": "8ukBYKpEb8ny",
        "outputId": "a244480b-0692-40dc-ebe4-a6d1d5001a11"
      },
      "execution_count": null,
      "outputs": [
        {
          "output_type": "display_data",
          "data": {
            "text/plain": [
              "<Figure size 432x288 with 1 Axes>"
            ],
            "image/png": "[encoded data removed]"
          },
          "metadata": {}
        }
      ]
    },
    {
      "cell_type": "markdown",
      "source": [
        "**5. Scatter Plot**"
      ],
      "metadata": {
        "id": "ZYz7o1qCcOhS"
      }
    },
    {
      "cell_type": "code",
      "source": [
        "data = data.dropna(subset=['view_count', 'likes'])\n",
        "\n",
        "# Plot the relationship between fare and age as a scatter plot\n",
        "plt.scatter(data['view_count'], data['likes'], alpha=0.5)\n",
        "plt.xlabel('View Count')\n",
        "plt.ylabel('Likes')\n",
        "plt.title('Relationship between View Count and Likes')\n",
        "plt.grid(True)\n",
        "plt.show()"
      ],
      "metadata": {
        "colab": {
          "base_uri": "https://localhost:8080/",
          "height": 295
        },
        "id": "Kf6NV0iXcN56",
        "outputId": "872a4a11-2569-4396-9f18-373dc839a4bd"
      },
      "execution_count": null,
      "outputs": [
        {
          "output_type": "display_data",
          "data": {
            "text/plain": [
              "<Figure size 432x288 with 1 Axes>"
            ],
            "image/png": "[encoded data removed]"
          },
          "metadata": {
            "needs_background": "light"
          }
        }
      ]
    },
    {
      "cell_type": "code",
      "source": [
        "data = data.dropna(subset=['view_count', 'dislikes'])\n",
        "\n",
        "# Plot the relationship between fare and age as a scatter plot\n",
        "plt.scatter(data['view_count'], data['dislikes'], alpha=0.5)\n",
        "plt.xlabel('View Count')\n",
        "plt.ylabel('DisLikes')\n",
        "plt.title('Relationship between View Count and DisLikes')\n",
        "plt.grid(True)\n",
        "plt.show()"
      ],
      "metadata": {
        "colab": {
          "base_uri": "https://localhost:8080/",
          "height": 295
        },
        "outputId": "d6f8f0d6-ea9f-4b7a-8091-3de8bfdd3944",
        "id": "SpIkc16ESR_L"
      },
      "execution_count": null,
      "outputs": [
        {
          "output_type": "display_data",
          "data": {
            "text/plain": [
              "<Figure size 432x288 with 1 Axes>"
            ],
            "image/png": "[encoded data removed]"
          },
          "metadata": {
            "needs_background": "light"
          }
        }
      ]
    },
    {
      "cell_type": "markdown",
      "source": [
        "**6. HeatMap**"
      ],
      "metadata": {
        "id": "3KOkNPCdcznK"
      }
    },
    {
      "cell_type": "code",
      "source": [
        "corr = data.corr()\n",
        "\n",
        "# Plot the correlation matrix as a heat map\n",
        "sns.heatmap(corr, annot=True, cmap='coolwarm')\n",
        "plt.title('Correlation between Variables')\n",
        "plt.show()"
      ],
      "metadata": {
        "colab": {
          "base_uri": "https://localhost:8080/",
          "height": 371
        },
        "id": "lqNqLCagc22y",
        "outputId": "19b0c3d8-081a-427f-ee4e-ce924555f5ca"
      },
      "execution_count": null,
      "outputs": [
        {
          "output_type": "display_data",
          "data": {
            "text/plain": [
              "<Figure size 432x288 with 2 Axes>"
            ],
            "image/png": "[encoded data removed]"
          },
          "metadata": {
            "needs_background": "light"
          }
        }
      ]
    },
    {
      "cell_type": "markdown",
      "source": [
        "**7. Box Plot**"
      ],
      "metadata": {
        "id": "2x8VcYLQc9fR"
      }
    },
    {
      "cell_type": "code",
      "source": [
        "plt.boxplot(data['categoryId'].dropna())\n",
        "plt.title('Distribution of Category ID')\n",
        "plt.ylabel('Category ID')\n",
        "plt.show()"
      ],
      "metadata": {
        "colab": {
          "base_uri": "https://localhost:8080/",
          "height": 281
        },
        "id": "FbZA8otjdA4z",
        "outputId": "25b8b37c-8397-474a-ce47-8b4614b4d7c4"
      },
      "execution_count": null,
      "outputs": [
        {
          "output_type": "display_data",
          "data": {
            "text/plain": [
              "<Figure size 432x288 with 1 Axes>"
            ],
            "image/png": "[encoded data removed]"
          },
          "metadata": {
            "needs_background": "light"
          }
        }
      ]
    },
    {
      "cell_type": "markdown",
      "source": [
        "**8. Pdf**"
      ],
      "metadata": {
        "id": "KjPxCzmhdb6z"
      }
    },
    {
      "cell_type": "code",
      "source": [
        "sns.distplot(data['categoryId'].dropna(), kde=True)\n",
        "plt.title('PDF of Category ID')\n",
        "plt.xlabel('Category ID')\n",
        "plt.show()"
      ],
      "metadata": {
        "colab": {
          "base_uri": "https://localhost:8080/",
          "height": 350
        },
        "id": "nQVG4dE3dbWL",
        "outputId": "03866507-a4a1-4e25-ba50-266b72bae4b7"
      },
      "execution_count": null,
      "outputs": [
        {
          "output_type": "stream",
          "name": "stderr",
          "text": [
            "/usr/local/lib/python3.8/dist-packages/seaborn/distributions.py:2619: FutureWarning: `distplot` is a deprecated function and will be removed in a future version. Please adapt your code to use either `displot` (a figure-level function with similar flexibility) or `histplot` (an axes-level function for histograms).\n",
            "  warnings.warn(msg, FutureWarning)\n"
          ]
        },
        {
          "output_type": "display_data",
          "data": {
            "text/plain": [
              "<Figure size 432x288 with 1 Axes>"
            ],
            "image/png": "[encoded data removed]"
          },
          "metadata": {
            "needs_background": "light"
          }
        }
      ]
    }
  ]
}