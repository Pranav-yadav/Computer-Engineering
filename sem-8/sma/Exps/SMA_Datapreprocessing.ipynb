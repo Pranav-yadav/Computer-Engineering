{
  "nbformat": 4,
  "nbformat_minor": 0,
  "metadata": {
    "colab": {
      "provenance": []
    },
    "kernelspec": {
      "name": "python3",
      "display_name": "Python 3"
    },
    "language_info": {
      "name": "python"
    }
  },
  "cells": [
    {
      "cell_type": "code",
      "execution_count": null,
      "metadata": {
        "id": "WzwoBegaxmeY"
      },
      "outputs": [],
      "source": [
        "import pandas as pd"
      ]
    },
    {
      "cell_type": "code",
      "source": [
        "data = pd.read_csv('/content/drive/MyDrive/SEM 8/_SEM_8_/SMA/top_200_instagrammers.csv')\n",
        "data.head(2)"
      ],
      "metadata": {
        "colab": {
          "base_uri": "https://localhost:8080/",
          "height": 211
        },
        "id": "dEVPier8yIvD",
        "outputId": "7592e553-8330-44ac-9c6d-814c807b742f"
      },
      "execution_count": null,
      "outputs": [
        {
          "output_type": "execute_result",
          "data": {
            "text/plain": [
              "      Username Channel Name Country                                    Url  \\\n",
              "0    cristiano    cristiano      ES    https://www.instagram.com/cristiano   \n",
              "1  kyliejenner  kyliejenner      US  https://www.instagram.com/kyliejenner   \n",
              "\n",
              "  Main topic Main video category         Likes    Likes Avg.  Posts  \\\n",
              "0     Sports              Sports  2.287645e+10  8.671953e+06   3328   \n",
              "1        NaN                 NaN  4.304855e+10  8.296736e+06   6921   \n",
              "\n",
              "   Followers  Boost Index  Comments Avg.    Views Avg.  Avg. 1 Day  \\\n",
              "0  465027234           92   51758.330927  1.700949e+07         NaN   \n",
              "1  356687629           91   47534.120961  2.287547e+07         NaN   \n",
              "\n",
              "   Avg. 3 Day  Avg. 7 Day  Avg. 14 Day   Avg. 30 Day  Engagement Rate  \\\n",
              "0         NaN   3321113.0   5327340.25  6.948659e+06         0.014916   \n",
              "1         NaN   1223002.0   2196528.50  4.692459e+06         0.017617   \n",
              "\n",
              "   Engagement Rate (60 Days)  \n",
              "0                   0.015903  \n",
              "1                   0.016189  "
            ],
            "text/html": [
              "\n",
              "  <div id=\"df-1705290d-fec9-4738-9cba-5d98a972abc6\">\n",
              "    <div class=\"colab-df-container\">\n",
              "      <div>\n",
              "<style scoped>\n",
              "    .dataframe tbody tr th:only-of-type {\n",
              "        vertical-align: middle;\n",
              "    }\n",
              "\n",
              "    .dataframe tbody tr th {\n",
              "        vertical-align: top;\n",
              "    }\n",
              "\n",
              "    .dataframe thead th {\n",
              "        text-align: right;\n",
              "    }\n",
              "</style>\n",
              "<table border=\"1\" class=\"dataframe\">\n",
              "  <thead>\n",
              "    <tr style=\"text-align: right;\">\n",
              "      <th></th>\n",
              "      <th>Username</th>\n",
              "      <th>Channel Name</th>\n",
              "      <th>Country</th>\n",
              "      <th>Url</th>\n",
              "      <th>Main topic</th>\n",
              "      <th>Main video category</th>\n",
              "      <th>Likes</th>\n",
              "      <th>Likes Avg.</th>\n",
              "      <th>Posts</th>\n",
              "      <th>Followers</th>\n",
              "      <th>Boost Index</th>\n",
              "      <th>Comments Avg.</th>\n",
              "      <th>Views Avg.</th>\n",
              "      <th>Avg. 1 Day</th>\n",
              "      <th>Avg. 3 Day</th>\n",
              "      <th>Avg. 7 Day</th>\n",
              "      <th>Avg. 14 Day</th>\n",
              "      <th>Avg. 30 Day</th>\n",
              "      <th>Engagement Rate</th>\n",
              "      <th>Engagement Rate (60 Days)</th>\n",
              "    </tr>\n",
              "  </thead>\n",
              "  <tbody>\n",
              "    <tr>\n",
              "      <th>0</th>\n",
              "      <td>cristiano</td>\n",
              "      <td>cristiano</td>\n",
              "      <td>ES</td>\n",
              "      <td>https://www.instagram.com/cristiano</td>\n",
              "      <td>Sports</td>\n",
              "      <td>Sports</td>\n",
              "      <td>2.287645e+10</td>\n",
              "      <td>8.671953e+06</td>\n",
              "      <td>3328</td>\n",
              "      <td>465027234</td>\n",
              "      <td>92</td>\n",
              "      <td>51758.330927</td>\n",
              "      <td>1.700949e+07</td>\n",
              "      <td>NaN</td>\n",
              "      <td>NaN</td>\n",
              "      <td>3321113.0</td>\n",
              "      <td>5327340.25</td>\n",
              "      <td>6.948659e+06</td>\n",
              "      <td>0.014916</td>\n",
              "      <td>0.015903</td>\n",
              "    </tr>\n",
              "    <tr>\n",
              "      <th>1</th>\n",
              "      <td>kyliejenner</td>\n",
              "      <td>kyliejenner</td>\n",
              "      <td>US</td>\n",
              "      <td>https://www.instagram.com/kyliejenner</td>\n",
              "      <td>NaN</td>\n",
              "      <td>NaN</td>\n",
              "      <td>4.304855e+10</td>\n",
              "      <td>8.296736e+06</td>\n",
              "      <td>6921</td>\n",
              "      <td>356687629</td>\n",
              "      <td>91</td>\n",
              "      <td>47534.120961</td>\n",
              "      <td>2.287547e+07</td>\n",
              "      <td>NaN</td>\n",
              "      <td>NaN</td>\n",
              "      <td>1223002.0</td>\n",
              "      <td>2196528.50</td>\n",
              "      <td>4.692459e+06</td>\n",
              "      <td>0.017617</td>\n",
              "      <td>0.016189</td>\n",
              "    </tr>\n",
              "  </tbody>\n",
              "</table>\n",
              "</div>\n",
              "      <button class=\"colab-df-convert\" onclick=\"convertToInteractive('df-1705290d-fec9-4738-9cba-5d98a972abc6')\"\n",
              "              title=\"Convert this dataframe to an interactive table.\"\n",
              "              style=\"display:none;\">\n",
              "        \n",
              "  <svg xmlns=\"http://www.w3.org/2000/svg\" height=\"24px\"viewBox=\"0 0 24 24\"\n",
              "       width=\"24px\">\n",
              "    <path d=\"M0 0h24v24H0V0z\" fill=\"none\"/>\n",
              "    <path d=\"M18.56 5.44l.94 2.06.94-2.06 2.06-.94-2.06-.94-.94-2.06-.94 2.06-2.06.94zm-11 1L8.5 8.5l.94-2.06 2.06-.94-2.06-.94L8.5 2.5l-.94 2.06-2.06.94zm10 10l.94 2.06.94-2.06 2.06-.94-2.06-.94-.94-2.06-.94 2.06-2.06.94z\"/><path d=\"M17.41 7.96l-1.37-1.37c-.4-.4-.92-.59-1.43-.59-.52 0-1.04.2-1.43.59L10.3 9.45l-7.72 7.72c-.78.78-.78 2.05 0 2.83L4 21.41c.39.39.9.59 1.41.59.51 0 1.02-.2 1.41-.59l7.78-7.78 2.81-2.81c.8-.78.8-2.07 0-2.86zM5.41 20L4 18.59l7.72-7.72 1.47 1.35L5.41 20z\"/>\n",
              "  </svg>\n",
              "      </button>\n",
              "      \n",
              "  <style>\n",
              "    .colab-df-container {\n",
              "      display:flex;\n",
              "      flex-wrap:wrap;\n",
              "      gap: 12px;\n",
              "    }\n",
              "\n",
              "    .colab-df-convert {\n",
              "      background-color: #E8F0FE;\n",
              "      border: none;\n",
              "      border-radius: 50%;\n",
              "      cursor: pointer;\n",
              "      display: none;\n",
              "      fill: #1967D2;\n",
              "      height: 32px;\n",
              "      padding: 0 0 0 0;\n",
              "      width: 32px;\n",
              "    }\n",
              "\n",
              "    .colab-df-convert:hover {\n",
              "      background-color: #E2EBFA;\n",
              "      box-shadow: 0px 1px 2px rgba(60, 64, 67, 0.3), 0px 1px 3px 1px rgba(60, 64, 67, 0.15);\n",
              "      fill: #174EA6;\n",
              "    }\n",
              "\n",
              "    [theme=dark] .colab-df-convert {\n",
              "      background-color: #3B4455;\n",
              "      fill: #D2E3FC;\n",
              "    }\n",
              "\n",
              "    [theme=dark] .colab-df-convert:hover {\n",
              "      background-color: #434B5C;\n",
              "      box-shadow: 0px 1px 3px 1px rgba(0, 0, 0, 0.15);\n",
              "      filter: drop-shadow(0px 1px 2px rgba(0, 0, 0, 0.3));\n",
              "      fill: #FFFFFF;\n",
              "    }\n",
              "  </style>\n",
              "\n",
              "      <script>\n",
              "        const buttonEl =\n",
              "          document.querySelector('#df-1705290d-fec9-4738-9cba-5d98a972abc6 button.colab-df-convert');\n",
              "        buttonEl.style.display =\n",
              "          google.colab.kernel.accessAllowed ? 'block' : 'none';\n",
              "\n",
              "        async function convertToInteractive(key) {\n",
              "          const element = document.querySelector('#df-1705290d-fec9-4738-9cba-5d98a972abc6');\n",
              "          const dataTable =\n",
              "            await google.colab.kernel.invokeFunction('convertToInteractive',\n",
              "                                                     [key], {});\n",
              "          if (!dataTable) return;\n",
              "\n",
              "          const docLinkHtml = 'Like what you see? Visit the ' +\n",
              "            '<a target=\"_blank\" href=https://colab.research.google.com/notebooks/data_table.ipynb>data table notebook</a>'\n",
              "            + ' to learn more about interactive tables.';\n",
              "          element.innerHTML = '';\n",
              "          dataTable['output_type'] = 'display_data';\n",
              "          await google.colab.output.renderOutput(dataTable, element);\n",
              "          const docLink = document.createElement('div');\n",
              "          docLink.innerHTML = docLinkHtml;\n",
              "          element.appendChild(docLink);\n",
              "        }\n",
              "      </script>\n",
              "    </div>\n",
              "  </div>\n",
              "  "
            ]
          },
          "metadata": {},
          "execution_count": 83
        }
      ]
    },
    {
      "cell_type": "code",
      "source": [
        "#Amount of Missing Values\n",
        "data.isnull().sum()"
      ],
      "metadata": {
        "colab": {
          "base_uri": "https://localhost:8080/"
        },
        "id": "FaXTHxkLzdQF",
        "outputId": "41bb420a-969c-4f45-b924-04579d87729f"
      },
      "execution_count": null,
      "outputs": [
        {
          "output_type": "execute_result",
          "data": {
            "text/plain": [
              "Username                       0\n",
              "Channel Name                   0\n",
              "Country                       62\n",
              "Url                            0\n",
              "Main topic                    70\n",
              "Main video category           67\n",
              "Likes                          0\n",
              "Likes Avg.                     0\n",
              "Posts                          0\n",
              "Followers                      0\n",
              "Boost Index                    0\n",
              "Comments Avg.                  0\n",
              "Views Avg.                     3\n",
              "Avg. 1 Day                   139\n",
              "Avg. 3 Day                    75\n",
              "Avg. 7 Day                    38\n",
              "Avg. 14 Day                   14\n",
              "Avg. 30 Day                    5\n",
              "Engagement Rate                0\n",
              "Engagement Rate (60 Days)      0\n",
              "dtype: int64"
            ]
          },
          "metadata": {},
          "execution_count": 84
        }
      ]
    },
    {
      "cell_type": "code",
      "source": [
        "remove = ['Url','Channel Name','Likes','Likes Avg.', 'Comments Avg.','Engagement Rate','Avg. 1 Day','Avg. 3 Day','Avg. 7 Day','Avg. 14 Day','Avg. 30 Day']\n",
        "data.drop(remove, inplace=True, axis=1)"
      ],
      "metadata": {
        "id": "P9pdrTeNydl1"
      },
      "execution_count": null,
      "outputs": []
    },
    {
      "cell_type": "code",
      "source": [
        "data.isnull().sum()"
      ],
      "metadata": {
        "colab": {
          "base_uri": "https://localhost:8080/"
        },
        "id": "PV1XEIy60WhO",
        "outputId": "591aeac6-ada2-46c4-f715-4394ea624631"
      },
      "execution_count": null,
      "outputs": [
        {
          "output_type": "execute_result",
          "data": {
            "text/plain": [
              "Username                      0\n",
              "Country                      62\n",
              "Main topic                   70\n",
              "Main video category          67\n",
              "Posts                         0\n",
              "Followers                     0\n",
              "Boost Index                   0\n",
              "Views Avg.                    3\n",
              "Engagement Rate (60 Days)     0\n",
              "dtype: int64"
            ]
          },
          "metadata": {},
          "execution_count": 86
        }
      ]
    },
    {
      "cell_type": "code",
      "source": [
        "data.info()"
      ],
      "metadata": {
        "colab": {
          "base_uri": "https://localhost:8080/"
        },
        "id": "Ss6OUcCEyilY",
        "outputId": "af170501-752e-4270-bd3d-402358125cdf"
      },
      "execution_count": null,
      "outputs": [
        {
          "output_type": "stream",
          "name": "stdout",
          "text": [
            "<class 'pandas.core.frame.DataFrame'>\n",
            "RangeIndex: 200 entries, 0 to 199\n",
            "Data columns (total 9 columns):\n",
            " #   Column                     Non-Null Count  Dtype  \n",
            "---  ------                     --------------  -----  \n",
            " 0   Username                   200 non-null    object \n",
            " 1   Country                    138 non-null    object \n",
            " 2   Main topic                 130 non-null    object \n",
            " 3   Main video category        133 non-null    object \n",
            " 4   Posts                      200 non-null    int64  \n",
            " 5   Followers                  200 non-null    int64  \n",
            " 6   Boost Index                200 non-null    int64  \n",
            " 7   Views Avg.                 197 non-null    float64\n",
            " 8   Engagement Rate (60 Days)  200 non-null    float64\n",
            "dtypes: float64(2), int64(3), object(4)\n",
            "memory usage: 14.2+ KB\n"
          ]
        }
      ]
    },
    {
      "cell_type": "code",
      "source": [
        "data.drop_duplicates()"
      ],
      "metadata": {
        "colab": {
          "base_uri": "https://localhost:8080/",
          "height": 540
        },
        "id": "zI-pYP35AI_U",
        "outputId": "111fc27f-2988-4421-c736-b3f610fea768"
      },
      "execution_count": null,
      "outputs": [
        {
          "output_type": "execute_result",
          "data": {
            "text/plain": [
              "         Username Country      Main topic Main video category  Posts  \\\n",
              "0       cristiano      ES          Sports              Sports   3328   \n",
              "1     kyliejenner      US             NaN                 NaN   6921   \n",
              "2        leomessi     NaN             NaN                 NaN    875   \n",
              "3     selenagomez      US             NaN                 NaN   1835   \n",
              "4         therock      US             NaN                 NaN   6660   \n",
              "..            ...     ...             ...                 ...    ...   \n",
              "195   luansantana      BR             NaN                 NaN    714   \n",
              "196  danbilzerian      CA  Pets & Animals      Pets & Animals   1372   \n",
              "197     nickjonas      US             NaN                 NaN   2315   \n",
              "198  gururandhawa      US       Education           Education   2140   \n",
              "199     iambeckyg      US             NaN                 NaN   2270   \n",
              "\n",
              "     Followers  Boost Index    Views Avg.  Engagement Rate (60 Days)  \n",
              "0    465027234           92  1.700949e+07                   0.015903  \n",
              "1    356687629           91  2.287547e+07                   0.016189  \n",
              "2    347032978           90  1.176160e+07                   0.019045  \n",
              "3    334551681           93  1.072397e+07                   0.007720  \n",
              "4    327064138           91  5.413831e+06                   0.003723  \n",
              "..         ...          ...           ...                        ...  \n",
              "195   33024460           79  5.287625e+05                   0.005092  \n",
              "196   32938902           84  2.103653e+07                   0.033629  \n",
              "197   32906383           78  1.089024e+06                   0.010766  \n",
              "198   32845959           83  2.267251e+06                   0.008365  \n",
              "199   32812027           71  1.020376e+06                   0.016422  \n",
              "\n",
              "[200 rows x 9 columns]"
            ],
            "text/html": [
              "\n",
              "  <div id=\"df-967c8962-0eb0-458c-af4c-4d4dc5126119\">\n",
              "    <div class=\"colab-df-container\">\n",
              "      <div>\n",
              "<style scoped>\n",
              "    .dataframe tbody tr th:only-of-type {\n",
              "        vertical-align: middle;\n",
              "    }\n",
              "\n",
              "    .dataframe tbody tr th {\n",
              "        vertical-align: top;\n",
              "    }\n",
              "\n",
              "    .dataframe thead th {\n",
              "        text-align: right;\n",
              "    }\n",
              "</style>\n",
              "<table border=\"1\" class=\"dataframe\">\n",
              "  <thead>\n",
              "    <tr style=\"text-align: right;\">\n",
              "      <th></th>\n",
              "      <th>Username</th>\n",
              "      <th>Country</th>\n",
              "      <th>Main topic</th>\n",
              "      <th>Main video category</th>\n",
              "      <th>Posts</th>\n",
              "      <th>Followers</th>\n",
              "      <th>Boost Index</th>\n",
              "      <th>Views Avg.</th>\n",
              "      <th>Engagement Rate (60 Days)</th>\n",
              "    </tr>\n",
              "  </thead>\n",
              "  <tbody>\n",
              "    <tr>\n",
              "      <th>0</th>\n",
              "      <td>cristiano</td>\n",
              "      <td>ES</td>\n",
              "      <td>Sports</td>\n",
              "      <td>Sports</td>\n",
              "      <td>3328</td>\n",
              "      <td>465027234</td>\n",
              "      <td>92</td>\n",
              "      <td>1.700949e+07</td>\n",
              "      <td>0.015903</td>\n",
              "    </tr>\n",
              "    <tr>\n",
              "      <th>1</th>\n",
              "      <td>kyliejenner</td>\n",
              "      <td>US</td>\n",
              "      <td>NaN</td>\n",
              "      <td>NaN</td>\n",
              "      <td>6921</td>\n",
              "      <td>356687629</td>\n",
              "      <td>91</td>\n",
              "      <td>2.287547e+07</td>\n",
              "      <td>0.016189</td>\n",
              "    </tr>\n",
              "    <tr>\n",
              "      <th>2</th>\n",
              "      <td>leomessi</td>\n",
              "      <td>NaN</td>\n",
              "      <td>NaN</td>\n",
              "      <td>NaN</td>\n",
              "      <td>875</td>\n",
              "      <td>347032978</td>\n",
              "      <td>90</td>\n",
              "      <td>1.176160e+07</td>\n",
              "      <td>0.019045</td>\n",
              "    </tr>\n",
              "    <tr>\n",
              "      <th>3</th>\n",
              "      <td>selenagomez</td>\n",
              "      <td>US</td>\n",
              "      <td>NaN</td>\n",
              "      <td>NaN</td>\n",
              "      <td>1835</td>\n",
              "      <td>334551681</td>\n",
              "      <td>93</td>\n",
              "      <td>1.072397e+07</td>\n",
              "      <td>0.007720</td>\n",
              "    </tr>\n",
              "    <tr>\n",
              "      <th>4</th>\n",
              "      <td>therock</td>\n",
              "      <td>US</td>\n",
              "      <td>NaN</td>\n",
              "      <td>NaN</td>\n",
              "      <td>6660</td>\n",
              "      <td>327064138</td>\n",
              "      <td>91</td>\n",
              "      <td>5.413831e+06</td>\n",
              "      <td>0.003723</td>\n",
              "    </tr>\n",
              "    <tr>\n",
              "      <th>...</th>\n",
              "      <td>...</td>\n",
              "      <td>...</td>\n",
              "      <td>...</td>\n",
              "      <td>...</td>\n",
              "      <td>...</td>\n",
              "      <td>...</td>\n",
              "      <td>...</td>\n",
              "      <td>...</td>\n",
              "      <td>...</td>\n",
              "    </tr>\n",
              "    <tr>\n",
              "      <th>195</th>\n",
              "      <td>luansantana</td>\n",
              "      <td>BR</td>\n",
              "      <td>NaN</td>\n",
              "      <td>NaN</td>\n",
              "      <td>714</td>\n",
              "      <td>33024460</td>\n",
              "      <td>79</td>\n",
              "      <td>5.287625e+05</td>\n",
              "      <td>0.005092</td>\n",
              "    </tr>\n",
              "    <tr>\n",
              "      <th>196</th>\n",
              "      <td>danbilzerian</td>\n",
              "      <td>CA</td>\n",
              "      <td>Pets &amp; Animals</td>\n",
              "      <td>Pets &amp; Animals</td>\n",
              "      <td>1372</td>\n",
              "      <td>32938902</td>\n",
              "      <td>84</td>\n",
              "      <td>2.103653e+07</td>\n",
              "      <td>0.033629</td>\n",
              "    </tr>\n",
              "    <tr>\n",
              "      <th>197</th>\n",
              "      <td>nickjonas</td>\n",
              "      <td>US</td>\n",
              "      <td>NaN</td>\n",
              "      <td>NaN</td>\n",
              "      <td>2315</td>\n",
              "      <td>32906383</td>\n",
              "      <td>78</td>\n",
              "      <td>1.089024e+06</td>\n",
              "      <td>0.010766</td>\n",
              "    </tr>\n",
              "    <tr>\n",
              "      <th>198</th>\n",
              "      <td>gururandhawa</td>\n",
              "      <td>US</td>\n",
              "      <td>Education</td>\n",
              "      <td>Education</td>\n",
              "      <td>2140</td>\n",
              "      <td>32845959</td>\n",
              "      <td>83</td>\n",
              "      <td>2.267251e+06</td>\n",
              "      <td>0.008365</td>\n",
              "    </tr>\n",
              "    <tr>\n",
              "      <th>199</th>\n",
              "      <td>iambeckyg</td>\n",
              "      <td>US</td>\n",
              "      <td>NaN</td>\n",
              "      <td>NaN</td>\n",
              "      <td>2270</td>\n",
              "      <td>32812027</td>\n",
              "      <td>71</td>\n",
              "      <td>1.020376e+06</td>\n",
              "      <td>0.016422</td>\n",
              "    </tr>\n",
              "  </tbody>\n",
              "</table>\n",
              "<p>200 rows × 9 columns</p>\n",
              "</div>\n",
              "      <button class=\"colab-df-convert\" onclick=\"convertToInteractive('df-967c8962-0eb0-458c-af4c-4d4dc5126119')\"\n",
              "              title=\"Convert this dataframe to an interactive table.\"\n",
              "              style=\"display:none;\">\n",
              "        \n",
              "  <svg xmlns=\"http://www.w3.org/2000/svg\" height=\"24px\"viewBox=\"0 0 24 24\"\n",
              "       width=\"24px\">\n",
              "    <path d=\"M0 0h24v24H0V0z\" fill=\"none\"/>\n",
              "    <path d=\"M18.56 5.44l.94 2.06.94-2.06 2.06-.94-2.06-.94-.94-2.06-.94 2.06-2.06.94zm-11 1L8.5 8.5l.94-2.06 2.06-.94-2.06-.94L8.5 2.5l-.94 2.06-2.06.94zm10 10l.94 2.06.94-2.06 2.06-.94-2.06-.94-.94-2.06-.94 2.06-2.06.94z\"/><path d=\"M17.41 7.96l-1.37-1.37c-.4-.4-.92-.59-1.43-.59-.52 0-1.04.2-1.43.59L10.3 9.45l-7.72 7.72c-.78.78-.78 2.05 0 2.83L4 21.41c.39.39.9.59 1.41.59.51 0 1.02-.2 1.41-.59l7.78-7.78 2.81-2.81c.8-.78.8-2.07 0-2.86zM5.41 20L4 18.59l7.72-7.72 1.47 1.35L5.41 20z\"/>\n",
              "  </svg>\n",
              "      </button>\n",
              "      \n",
              "  <style>\n",
              "    .colab-df-container {\n",
              "      display:flex;\n",
              "      flex-wrap:wrap;\n",
              "      gap: 12px;\n",
              "    }\n",
              "\n",
              "    .colab-df-convert {\n",
              "      background-color: #E8F0FE;\n",
              "      border: none;\n",
              "      border-radius: 50%;\n",
              "      cursor: pointer;\n",
              "      display: none;\n",
              "      fill: #1967D2;\n",
              "      height: 32px;\n",
              "      padding: 0 0 0 0;\n",
              "      width: 32px;\n",
              "    }\n",
              "\n",
              "    .colab-df-convert:hover {\n",
              "      background-color: #E2EBFA;\n",
              "      box-shadow: 0px 1px 2px rgba(60, 64, 67, 0.3), 0px 1px 3px 1px rgba(60, 64, 67, 0.15);\n",
              "      fill: #174EA6;\n",
              "    }\n",
              "\n",
              "    [theme=dark] .colab-df-convert {\n",
              "      background-color: #3B4455;\n",
              "      fill: #D2E3FC;\n",
              "    }\n",
              "\n",
              "    [theme=dark] .colab-df-convert:hover {\n",
              "      background-color: #434B5C;\n",
              "      box-shadow: 0px 1px 3px 1px rgba(0, 0, 0, 0.15);\n",
              "      filter: drop-shadow(0px 1px 2px rgba(0, 0, 0, 0.3));\n",
              "      fill: #FFFFFF;\n",
              "    }\n",
              "  </style>\n",
              "\n",
              "      <script>\n",
              "        const buttonEl =\n",
              "          document.querySelector('#df-967c8962-0eb0-458c-af4c-4d4dc5126119 button.colab-df-convert');\n",
              "        buttonEl.style.display =\n",
              "          google.colab.kernel.accessAllowed ? 'block' : 'none';\n",
              "\n",
              "        async function convertToInteractive(key) {\n",
              "          const element = document.querySelector('#df-967c8962-0eb0-458c-af4c-4d4dc5126119');\n",
              "          const dataTable =\n",
              "            await google.colab.kernel.invokeFunction('convertToInteractive',\n",
              "                                                     [key], {});\n",
              "          if (!dataTable) return;\n",
              "\n",
              "          const docLinkHtml = 'Like what you see? Visit the ' +\n",
              "            '<a target=\"_blank\" href=https://colab.research.google.com/notebooks/data_table.ipynb>data table notebook</a>'\n",
              "            + ' to learn more about interactive tables.';\n",
              "          element.innerHTML = '';\n",
              "          dataTable['output_type'] = 'display_data';\n",
              "          await google.colab.output.renderOutput(dataTable, element);\n",
              "          const docLink = document.createElement('div');\n",
              "          docLink.innerHTML = docLinkHtml;\n",
              "          element.appendChild(docLink);\n",
              "        }\n",
              "      </script>\n",
              "    </div>\n",
              "  </div>\n",
              "  "
            ]
          },
          "metadata": {},
          "execution_count": 88
        }
      ]
    },
    {
      "cell_type": "code",
      "source": [
        "#Amount of Missing Values\n",
        "data.isnull().sum()"
      ],
      "metadata": {
        "colab": {
          "base_uri": "https://localhost:8080/"
        },
        "id": "Q1DK7X1yJKSR",
        "outputId": "159efe55-3408-4ec8-dbdd-99e0d2f6ea53"
      },
      "execution_count": null,
      "outputs": [
        {
          "output_type": "execute_result",
          "data": {
            "text/plain": [
              "Username                      0\n",
              "Country                      62\n",
              "Main topic                   70\n",
              "Main video category          67\n",
              "Posts                         0\n",
              "Followers                     0\n",
              "Boost Index                   0\n",
              "Views Avg.                    3\n",
              "Engagement Rate (60 Days)     0\n",
              "dtype: int64"
            ]
          },
          "metadata": {},
          "execution_count": 89
        }
      ]
    },
    {
      "cell_type": "code",
      "source": [
        "data['Main topic'] = data['Main topic'].fillna('Not Specified')\n",
        "data.isnull().sum()"
      ],
      "metadata": {
        "colab": {
          "base_uri": "https://localhost:8080/"
        },
        "id": "v_In46USAwan",
        "outputId": "d38cd224-1356-4b21-8acb-8680150fc376"
      },
      "execution_count": null,
      "outputs": [
        {
          "output_type": "execute_result",
          "data": {
            "text/plain": [
              "Username                      0\n",
              "Country                      62\n",
              "Main topic                    0\n",
              "Main video category          67\n",
              "Posts                         0\n",
              "Followers                     0\n",
              "Boost Index                   0\n",
              "Views Avg.                    3\n",
              "Engagement Rate (60 Days)     0\n",
              "dtype: int64"
            ]
          },
          "metadata": {},
          "execution_count": 90
        }
      ]
    },
    {
      "cell_type": "code",
      "source": [
        "data.head()"
      ],
      "metadata": {
        "colab": {
          "base_uri": "https://localhost:8080/",
          "height": 374
        },
        "id": "BSMszfRpJQY2",
        "outputId": "e9f96c92-f770-4e2c-f3e3-e2a5920cf08e"
      },
      "execution_count": null,
      "outputs": [
        {
          "output_type": "execute_result",
          "data": {
            "text/plain": [
              "      Username Country     Main topic Main video category  Posts  Followers  \\\n",
              "0    cristiano      ES         Sports              Sports   3328  465027234   \n",
              "1  kyliejenner      US  Not Specified                 NaN   6921  356687629   \n",
              "2     leomessi     NaN  Not Specified                 NaN    875  347032978   \n",
              "3  selenagomez      US  Not Specified                 NaN   1835  334551681   \n",
              "4      therock      US  Not Specified                 NaN   6660  327064138   \n",
              "\n",
              "   Boost Index    Views Avg.  Engagement Rate (60 Days)  \n",
              "0           92  1.700949e+07                   0.015903  \n",
              "1           91  2.287547e+07                   0.016189  \n",
              "2           90  1.176160e+07                   0.019045  \n",
              "3           93  1.072397e+07                   0.007720  \n",
              "4           91  5.413831e+06                   0.003723  "
            ],
            "text/html": [
              "\n",
              "  <div id=\"df-efcd7fc9-7e60-42f0-a8eb-8d7416be37fa\">\n",
              "    <div class=\"colab-df-container\">\n",
              "      <div>\n",
              "<style scoped>\n",
              "    .dataframe tbody tr th:only-of-type {\n",
              "        vertical-align: middle;\n",
              "    }\n",
              "\n",
              "    .dataframe tbody tr th {\n",
              "        vertical-align: top;\n",
              "    }\n",
              "\n",
              "    .dataframe thead th {\n",
              "        text-align: right;\n",
              "    }\n",
              "</style>\n",
              "<table border=\"1\" class=\"dataframe\">\n",
              "  <thead>\n",
              "    <tr style=\"text-align: right;\">\n",
              "      <th></th>\n",
              "      <th>Username</th>\n",
              "      <th>Country</th>\n",
              "      <th>Main topic</th>\n",
              "      <th>Main video category</th>\n",
              "      <th>Posts</th>\n",
              "      <th>Followers</th>\n",
              "      <th>Boost Index</th>\n",
              "      <th>Views Avg.</th>\n",
              "      <th>Engagement Rate (60 Days)</th>\n",
              "    </tr>\n",
              "  </thead>\n",
              "  <tbody>\n",
              "    <tr>\n",
              "      <th>0</th>\n",
              "      <td>cristiano</td>\n",
              "      <td>ES</td>\n",
              "      <td>Sports</td>\n",
              "      <td>Sports</td>\n",
              "      <td>3328</td>\n",
              "      <td>465027234</td>\n",
              "      <td>92</td>\n",
              "      <td>1.700949e+07</td>\n",
              "      <td>0.015903</td>\n",
              "    </tr>\n",
              "    <tr>\n",
              "      <th>1</th>\n",
              "      <td>kyliejenner</td>\n",
              "      <td>US</td>\n",
              "      <td>Not Specified</td>\n",
              "      <td>NaN</td>\n",
              "      <td>6921</td>\n",
              "      <td>356687629</td>\n",
              "      <td>91</td>\n",
              "      <td>2.287547e+07</td>\n",
              "      <td>0.016189</td>\n",
              "    </tr>\n",
              "    <tr>\n",
              "      <th>2</th>\n",
              "      <td>leomessi</td>\n",
              "      <td>NaN</td>\n",
              "      <td>Not Specified</td>\n",
              "      <td>NaN</td>\n",
              "      <td>875</td>\n",
              "      <td>347032978</td>\n",
              "      <td>90</td>\n",
              "      <td>1.176160e+07</td>\n",
              "      <td>0.019045</td>\n",
              "    </tr>\n",
              "    <tr>\n",
              "      <th>3</th>\n",
              "      <td>selenagomez</td>\n",
              "      <td>US</td>\n",
              "      <td>Not Specified</td>\n",
              "      <td>NaN</td>\n",
              "      <td>1835</td>\n",
              "      <td>334551681</td>\n",
              "      <td>93</td>\n",
              "      <td>1.072397e+07</td>\n",
              "      <td>0.007720</td>\n",
              "    </tr>\n",
              "    <tr>\n",
              "      <th>4</th>\n",
              "      <td>therock</td>\n",
              "      <td>US</td>\n",
              "      <td>Not Specified</td>\n",
              "      <td>NaN</td>\n",
              "      <td>6660</td>\n",
              "      <td>327064138</td>\n",
              "      <td>91</td>\n",
              "      <td>5.413831e+06</td>\n",
              "      <td>0.003723</td>\n",
              "    </tr>\n",
              "  </tbody>\n",
              "</table>\n",
              "</div>\n",
              "      <button class=\"colab-df-convert\" onclick=\"convertToInteractive('df-efcd7fc9-7e60-42f0-a8eb-8d7416be37fa')\"\n",
              "              title=\"Convert this dataframe to an interactive table.\"\n",
              "              style=\"display:none;\">\n",
              "        \n",
              "  <svg xmlns=\"http://www.w3.org/2000/svg\" height=\"24px\"viewBox=\"0 0 24 24\"\n",
              "       width=\"24px\">\n",
              "    <path d=\"M0 0h24v24H0V0z\" fill=\"none\"/>\n",
              "    <path d=\"M18.56 5.44l.94 2.06.94-2.06 2.06-.94-2.06-.94-.94-2.06-.94 2.06-2.06.94zm-11 1L8.5 8.5l.94-2.06 2.06-.94-2.06-.94L8.5 2.5l-.94 2.06-2.06.94zm10 10l.94 2.06.94-2.06 2.06-.94-2.06-.94-.94-2.06-.94 2.06-2.06.94z\"/><path d=\"M17.41 7.96l-1.37-1.37c-.4-.4-.92-.59-1.43-.59-.52 0-1.04.2-1.43.59L10.3 9.45l-7.72 7.72c-.78.78-.78 2.05 0 2.83L4 21.41c.39.39.9.59 1.41.59.51 0 1.02-.2 1.41-.59l7.78-7.78 2.81-2.81c.8-.78.8-2.07 0-2.86zM5.41 20L4 18.59l7.72-7.72 1.47 1.35L5.41 20z\"/>\n",
              "  </svg>\n",
              "      </button>\n",
              "      \n",
              "  <style>\n",
              "    .colab-df-container {\n",
              "      display:flex;\n",
              "      flex-wrap:wrap;\n",
              "      gap: 12px;\n",
              "    }\n",
              "\n",
              "    .colab-df-convert {\n",
              "      background-color: #E8F0FE;\n",
              "      border: none;\n",
              "      border-radius: 50%;\n",
              "      cursor: pointer;\n",
              "      display: none;\n",
              "      fill: #1967D2;\n",
              "      height: 32px;\n",
              "      padding: 0 0 0 0;\n",
              "      width: 32px;\n",
              "    }\n",
              "\n",
              "    .colab-df-convert:hover {\n",
              "      background-color: #E2EBFA;\n",
              "      box-shadow: 0px 1px 2px rgba(60, 64, 67, 0.3), 0px 1px 3px 1px rgba(60, 64, 67, 0.15);\n",
              "      fill: #174EA6;\n",
              "    }\n",
              "\n",
              "    [theme=dark] .colab-df-convert {\n",
              "      background-color: #3B4455;\n",
              "      fill: #D2E3FC;\n",
              "    }\n",
              "\n",
              "    [theme=dark] .colab-df-convert:hover {\n",
              "      background-color: #434B5C;\n",
              "      box-shadow: 0px 1px 3px 1px rgba(0, 0, 0, 0.15);\n",
              "      filter: drop-shadow(0px 1px 2px rgba(0, 0, 0, 0.3));\n",
              "      fill: #FFFFFF;\n",
              "    }\n",
              "  </style>\n",
              "\n",
              "      <script>\n",
              "        const buttonEl =\n",
              "          document.querySelector('#df-efcd7fc9-7e60-42f0-a8eb-8d7416be37fa button.colab-df-convert');\n",
              "        buttonEl.style.display =\n",
              "          google.colab.kernel.accessAllowed ? 'block' : 'none';\n",
              "\n",
              "        async function convertToInteractive(key) {\n",
              "          const element = document.querySelector('#df-efcd7fc9-7e60-42f0-a8eb-8d7416be37fa');\n",
              "          const dataTable =\n",
              "            await google.colab.kernel.invokeFunction('convertToInteractive',\n",
              "                                                     [key], {});\n",
              "          if (!dataTable) return;\n",
              "\n",
              "          const docLinkHtml = 'Like what you see? Visit the ' +\n",
              "            '<a target=\"_blank\" href=https://colab.research.google.com/notebooks/data_table.ipynb>data table notebook</a>'\n",
              "            + ' to learn more about interactive tables.';\n",
              "          element.innerHTML = '';\n",
              "          dataTable['output_type'] = 'display_data';\n",
              "          await google.colab.output.renderOutput(dataTable, element);\n",
              "          const docLink = document.createElement('div');\n",
              "          docLink.innerHTML = docLinkHtml;\n",
              "          element.appendChild(docLink);\n",
              "        }\n",
              "      </script>\n",
              "    </div>\n",
              "  </div>\n",
              "  "
            ]
          },
          "metadata": {},
          "execution_count": 91
        }
      ]
    },
    {
      "cell_type": "code",
      "source": [
        "data = data.truncate(before=1,axis=0,copy=True)\n",
        "data['Main video category']"
      ],
      "metadata": {
        "colab": {
          "base_uri": "https://localhost:8080/"
        },
        "id": "NxsaU8w6KVwa",
        "outputId": "452a8c00-f193-4cb5-f71a-897bb40f1746"
      },
      "execution_count": null,
      "outputs": [
        {
          "output_type": "execute_result",
          "data": {
            "text/plain": [
              "1                 NaN\n",
              "2                 NaN\n",
              "3                 NaN\n",
              "4                 NaN\n",
              "5                 NaN\n",
              "            ...      \n",
              "195               NaN\n",
              "196    Pets & Animals\n",
              "197               NaN\n",
              "198         Education\n",
              "199               NaN\n",
              "Name: Main video category, Length: 199, dtype: object"
            ]
          },
          "metadata": {},
          "execution_count": 92
        }
      ]
    },
    {
      "cell_type": "code",
      "source": [
        "data.size"
      ],
      "metadata": {
        "colab": {
          "base_uri": "https://localhost:8080/"
        },
        "id": "UePocVZfKoyB",
        "outputId": "978febf7-06e2-4305-e73e-a548b5d0ec50"
      },
      "execution_count": null,
      "outputs": [
        {
          "output_type": "execute_result",
          "data": {
            "text/plain": [
              "1791"
            ]
          },
          "metadata": {},
          "execution_count": 93
        }
      ]
    },
    {
      "cell_type": "code",
      "source": [
        "data['Username']"
      ],
      "metadata": {
        "colab": {
          "base_uri": "https://localhost:8080/"
        },
        "id": "gi2Uk8P3LR_E",
        "outputId": "6f60f14a-306e-4a5a-ea76-c6aa38e1820f"
      },
      "execution_count": null,
      "outputs": [
        {
          "output_type": "execute_result",
          "data": {
            "text/plain": [
              "1        kyliejenner\n",
              "2           leomessi\n",
              "3        selenagomez\n",
              "4            therock\n",
              "5      kimkardashian\n",
              "           ...      \n",
              "195      luansantana\n",
              "196     danbilzerian\n",
              "197        nickjonas\n",
              "198     gururandhawa\n",
              "199        iambeckyg\n",
              "Name: Username, Length: 199, dtype: object"
            ]
          },
          "metadata": {},
          "execution_count": 94
        }
      ]
    },
    {
      "cell_type": "code",
      "source": [
        "data['Username'] = data['Username'].str.upper()\n",
        "data['Username']"
      ],
      "metadata": {
        "colab": {
          "base_uri": "https://localhost:8080/"
        },
        "id": "tRYWy_ZnK97Q",
        "outputId": "40e44432-a7cf-4b98-f82d-249d6f13fbdf"
      },
      "execution_count": null,
      "outputs": [
        {
          "output_type": "execute_result",
          "data": {
            "text/plain": [
              "1        KYLIEJENNER\n",
              "2           LEOMESSI\n",
              "3        SELENAGOMEZ\n",
              "4            THEROCK\n",
              "5      KIMKARDASHIAN\n",
              "           ...      \n",
              "195      LUANSANTANA\n",
              "196     DANBILZERIAN\n",
              "197        NICKJONAS\n",
              "198     GURURANDHAWA\n",
              "199        IAMBECKYG\n",
              "Name: Username, Length: 199, dtype: object"
            ]
          },
          "metadata": {},
          "execution_count": 95
        }
      ]
    },
    {
      "cell_type": "code",
      "source": [
        "data"
      ],
      "metadata": {
        "colab": {
          "base_uri": "https://localhost:8080/",
          "height": 679
        },
        "id": "FvmcgMLPLcL4",
        "outputId": "f1d2f03d-d54d-4154-b34d-add367c6dca5"
      },
      "execution_count": null,
      "outputs": [
        {
          "output_type": "execute_result",
          "data": {
            "text/plain": [
              "          Username Country      Main topic Main video category  Posts  \\\n",
              "1      KYLIEJENNER      US   Not Specified                 NaN   6921   \n",
              "2         LEOMESSI     NaN   Not Specified                 NaN    875   \n",
              "3      SELENAGOMEZ      US   Not Specified                 NaN   1835   \n",
              "4          THEROCK      US   Not Specified                 NaN   6660   \n",
              "5    KIMKARDASHIAN      US   Not Specified                 NaN   5603   \n",
              "..             ...     ...             ...                 ...    ...   \n",
              "195    LUANSANTANA      BR   Not Specified                 NaN    714   \n",
              "196   DANBILZERIAN      CA  Pets & Animals      Pets & Animals   1372   \n",
              "197      NICKJONAS      US   Not Specified                 NaN   2315   \n",
              "198   GURURANDHAWA      US       Education           Education   2140   \n",
              "199      IAMBECKYG      US   Not Specified                 NaN   2270   \n",
              "\n",
              "     Followers  Boost Index    Views Avg.  Engagement Rate (60 Days)  \n",
              "1    356687629           91  2.287547e+07                   0.016189  \n",
              "2    347032978           90  1.176160e+07                   0.019045  \n",
              "3    334551681           93  1.072397e+07                   0.007720  \n",
              "4    327064138           91  5.413831e+06                   0.003723  \n",
              "5    323090977           91  9.642516e+06                   0.009689  \n",
              "..         ...          ...           ...                        ...  \n",
              "195   33024460           79  5.287625e+05                   0.005092  \n",
              "196   32938902           84  2.103653e+07                   0.033629  \n",
              "197   32906383           78  1.089024e+06                   0.010766  \n",
              "198   32845959           83  2.267251e+06                   0.008365  \n",
              "199   32812027           71  1.020376e+06                   0.016422  \n",
              "\n",
              "[199 rows x 9 columns]"
            ],
            "text/html": [
              "\n",
              "  <div id=\"df-f9ec391b-6756-46c2-8005-d1021cf4aecb\">\n",
              "    <div class=\"colab-df-container\">\n",
              "      <div>\n",
              "<style scoped>\n",
              "    .dataframe tbody tr th:only-of-type {\n",
              "        vertical-align: middle;\n",
              "    }\n",
              "\n",
              "    .dataframe tbody tr th {\n",
              "        vertical-align: top;\n",
              "    }\n",
              "\n",
              "    .dataframe thead th {\n",
              "        text-align: right;\n",
              "    }\n",
              "</style>\n",
              "<table border=\"1\" class=\"dataframe\">\n",
              "  <thead>\n",
              "    <tr style=\"text-align: right;\">\n",
              "      <th></th>\n",
              "      <th>Username</th>\n",
              "      <th>Country</th>\n",
              "      <th>Main topic</th>\n",
              "      <th>Main video category</th>\n",
              "      <th>Posts</th>\n",
              "      <th>Followers</th>\n",
              "      <th>Boost Index</th>\n",
              "      <th>Views Avg.</th>\n",
              "      <th>Engagement Rate (60 Days)</th>\n",
              "    </tr>\n",
              "  </thead>\n",
              "  <tbody>\n",
              "    <tr>\n",
              "      <th>1</th>\n",
              "      <td>KYLIEJENNER</td>\n",
              "      <td>US</td>\n",
              "      <td>Not Specified</td>\n",
              "      <td>NaN</td>\n",
              "      <td>6921</td>\n",
              "      <td>356687629</td>\n",
              "      <td>91</td>\n",
              "      <td>2.287547e+07</td>\n",
              "      <td>0.016189</td>\n",
              "    </tr>\n",
              "    <tr>\n",
              "      <th>2</th>\n",
              "      <td>LEOMESSI</td>\n",
              "      <td>NaN</td>\n",
              "      <td>Not Specified</td>\n",
              "      <td>NaN</td>\n",
              "      <td>875</td>\n",
              "      <td>347032978</td>\n",
              "      <td>90</td>\n",
              "      <td>1.176160e+07</td>\n",
              "      <td>0.019045</td>\n",
              "    </tr>\n",
              "    <tr>\n",
              "      <th>3</th>\n",
              "      <td>SELENAGOMEZ</td>\n",
              "      <td>US</td>\n",
              "      <td>Not Specified</td>\n",
              "      <td>NaN</td>\n",
              "      <td>1835</td>\n",
              "      <td>334551681</td>\n",
              "      <td>93</td>\n",
              "      <td>1.072397e+07</td>\n",
              "      <td>0.007720</td>\n",
              "    </tr>\n",
              "    <tr>\n",
              "      <th>4</th>\n",
              "      <td>THEROCK</td>\n",
              "      <td>US</td>\n",
              "      <td>Not Specified</td>\n",
              "      <td>NaN</td>\n",
              "      <td>6660</td>\n",
              "      <td>327064138</td>\n",
              "      <td>91</td>\n",
              "      <td>5.413831e+06</td>\n",
              "      <td>0.003723</td>\n",
              "    </tr>\n",
              "    <tr>\n",
              "      <th>5</th>\n",
              "      <td>KIMKARDASHIAN</td>\n",
              "      <td>US</td>\n",
              "      <td>Not Specified</td>\n",
              "      <td>NaN</td>\n",
              "      <td>5603</td>\n",
              "      <td>323090977</td>\n",
              "      <td>91</td>\n",
              "      <td>9.642516e+06</td>\n",
              "      <td>0.009689</td>\n",
              "    </tr>\n",
              "    <tr>\n",
              "      <th>...</th>\n",
              "      <td>...</td>\n",
              "      <td>...</td>\n",
              "      <td>...</td>\n",
              "      <td>...</td>\n",
              "      <td>...</td>\n",
              "      <td>...</td>\n",
              "      <td>...</td>\n",
              "      <td>...</td>\n",
              "      <td>...</td>\n",
              "    </tr>\n",
              "    <tr>\n",
              "      <th>195</th>\n",
              "      <td>LUANSANTANA</td>\n",
              "      <td>BR</td>\n",
              "      <td>Not Specified</td>\n",
              "      <td>NaN</td>\n",
              "      <td>714</td>\n",
              "      <td>33024460</td>\n",
              "      <td>79</td>\n",
              "      <td>5.287625e+05</td>\n",
              "      <td>0.005092</td>\n",
              "    </tr>\n",
              "    <tr>\n",
              "      <th>196</th>\n",
              "      <td>DANBILZERIAN</td>\n",
              "      <td>CA</td>\n",
              "      <td>Pets &amp; Animals</td>\n",
              "      <td>Pets &amp; Animals</td>\n",
              "      <td>1372</td>\n",
              "      <td>32938902</td>\n",
              "      <td>84</td>\n",
              "      <td>2.103653e+07</td>\n",
              "      <td>0.033629</td>\n",
              "    </tr>\n",
              "    <tr>\n",
              "      <th>197</th>\n",
              "      <td>NICKJONAS</td>\n",
              "      <td>US</td>\n",
              "      <td>Not Specified</td>\n",
              "      <td>NaN</td>\n",
              "      <td>2315</td>\n",
              "      <td>32906383</td>\n",
              "      <td>78</td>\n",
              "      <td>1.089024e+06</td>\n",
              "      <td>0.010766</td>\n",
              "    </tr>\n",
              "    <tr>\n",
              "      <th>198</th>\n",
              "      <td>GURURANDHAWA</td>\n",
              "      <td>US</td>\n",
              "      <td>Education</td>\n",
              "      <td>Education</td>\n",
              "      <td>2140</td>\n",
              "      <td>32845959</td>\n",
              "      <td>83</td>\n",
              "      <td>2.267251e+06</td>\n",
              "      <td>0.008365</td>\n",
              "    </tr>\n",
              "    <tr>\n",
              "      <th>199</th>\n",
              "      <td>IAMBECKYG</td>\n",
              "      <td>US</td>\n",
              "      <td>Not Specified</td>\n",
              "      <td>NaN</td>\n",
              "      <td>2270</td>\n",
              "      <td>32812027</td>\n",
              "      <td>71</td>\n",
              "      <td>1.020376e+06</td>\n",
              "      <td>0.016422</td>\n",
              "    </tr>\n",
              "  </tbody>\n",
              "</table>\n",
              "<p>199 rows × 9 columns</p>\n",
              "</div>\n",
              "      <button class=\"colab-df-convert\" onclick=\"convertToInteractive('df-f9ec391b-6756-46c2-8005-d1021cf4aecb')\"\n",
              "              title=\"Convert this dataframe to an interactive table.\"\n",
              "              style=\"display:none;\">\n",
              "        \n",
              "  <svg xmlns=\"http://www.w3.org/2000/svg\" height=\"24px\"viewBox=\"0 0 24 24\"\n",
              "       width=\"24px\">\n",
              "    <path d=\"M0 0h24v24H0V0z\" fill=\"none\"/>\n",
              "    <path d=\"M18.56 5.44l.94 2.06.94-2.06 2.06-.94-2.06-.94-.94-2.06-.94 2.06-2.06.94zm-11 1L8.5 8.5l.94-2.06 2.06-.94-2.06-.94L8.5 2.5l-.94 2.06-2.06.94zm10 10l.94 2.06.94-2.06 2.06-.94-2.06-.94-.94-2.06-.94 2.06-2.06.94z\"/><path d=\"M17.41 7.96l-1.37-1.37c-.4-.4-.92-.59-1.43-.59-.52 0-1.04.2-1.43.59L10.3 9.45l-7.72 7.72c-.78.78-.78 2.05 0 2.83L4 21.41c.39.39.9.59 1.41.59.51 0 1.02-.2 1.41-.59l7.78-7.78 2.81-2.81c.8-.78.8-2.07 0-2.86zM5.41 20L4 18.59l7.72-7.72 1.47 1.35L5.41 20z\"/>\n",
              "  </svg>\n",
              "      </button>\n",
              "      \n",
              "  <style>\n",
              "    .colab-df-container {\n",
              "      display:flex;\n",
              "      flex-wrap:wrap;\n",
              "      gap: 12px;\n",
              "    }\n",
              "\n",
              "    .colab-df-convert {\n",
              "      background-color: #E8F0FE;\n",
              "      border: none;\n",
              "      border-radius: 50%;\n",
              "      cursor: pointer;\n",
              "      display: none;\n",
              "      fill: #1967D2;\n",
              "      height: 32px;\n",
              "      padding: 0 0 0 0;\n",
              "      width: 32px;\n",
              "    }\n",
              "\n",
              "    .colab-df-convert:hover {\n",
              "      background-color: #E2EBFA;\n",
              "      box-shadow: 0px 1px 2px rgba(60, 64, 67, 0.3), 0px 1px 3px 1px rgba(60, 64, 67, 0.15);\n",
              "      fill: #174EA6;\n",
              "    }\n",
              "\n",
              "    [theme=dark] .colab-df-convert {\n",
              "      background-color: #3B4455;\n",
              "      fill: #D2E3FC;\n",
              "    }\n",
              "\n",
              "    [theme=dark] .colab-df-convert:hover {\n",
              "      background-color: #434B5C;\n",
              "      box-shadow: 0px 1px 3px 1px rgba(0, 0, 0, 0.15);\n",
              "      filter: drop-shadow(0px 1px 2px rgba(0, 0, 0, 0.3));\n",
              "      fill: #FFFFFF;\n",
              "    }\n",
              "  </style>\n",
              "\n",
              "      <script>\n",
              "        const buttonEl =\n",
              "          document.querySelector('#df-f9ec391b-6756-46c2-8005-d1021cf4aecb button.colab-df-convert');\n",
              "        buttonEl.style.display =\n",
              "          google.colab.kernel.accessAllowed ? 'block' : 'none';\n",
              "\n",
              "        async function convertToInteractive(key) {\n",
              "          const element = document.querySelector('#df-f9ec391b-6756-46c2-8005-d1021cf4aecb');\n",
              "          const dataTable =\n",
              "            await google.colab.kernel.invokeFunction('convertToInteractive',\n",
              "                                                     [key], {});\n",
              "          if (!dataTable) return;\n",
              "\n",
              "          const docLinkHtml = 'Like what you see? Visit the ' +\n",
              "            '<a target=\"_blank\" href=https://colab.research.google.com/notebooks/data_table.ipynb>data table notebook</a>'\n",
              "            + ' to learn more about interactive tables.';\n",
              "          element.innerHTML = '';\n",
              "          dataTable['output_type'] = 'display_data';\n",
              "          await google.colab.output.renderOutput(dataTable, element);\n",
              "          const docLink = document.createElement('div');\n",
              "          docLink.innerHTML = docLinkHtml;\n",
              "          element.appendChild(docLink);\n",
              "        }\n",
              "      </script>\n",
              "    </div>\n",
              "  </div>\n",
              "  "
            ]
          },
          "metadata": {},
          "execution_count": 96
        }
      ]
    },
    {
      "cell_type": "code",
      "source": [
        "data.shape"
      ],
      "metadata": {
        "colab": {
          "base_uri": "https://localhost:8080/"
        },
        "id": "Z6a6XMFbMsyo",
        "outputId": "7ef66f69-041e-4981-985a-eee40afad91f"
      },
      "execution_count": null,
      "outputs": [
        {
          "output_type": "execute_result",
          "data": {
            "text/plain": [
              "(199, 9)"
            ]
          },
          "metadata": {},
          "execution_count": 97
        }
      ]
    },
    {
      "cell_type": "code",
      "source": [
        "new_name={'Country':'Country Code','Main topic':'Topic','Main Video Category':'Category'}\n",
        "data.rename(columns=new_name, inplace=True)\n",
        "print('\\n\\nAfter Renaming Columns')\n",
        "print(data.isnull().sum())"
      ],
      "metadata": {
        "colab": {
          "base_uri": "https://localhost:8080/"
        },
        "id": "k1adgHWaLZgh",
        "outputId": "b4b5c894-43a4-4872-94f0-bdc98acde7bb"
      },
      "execution_count": null,
      "outputs": [
        {
          "output_type": "stream",
          "name": "stdout",
          "text": [
            "\n",
            "\n",
            "After Renaming Columns\n",
            "Username                      0\n",
            "Country Code                 62\n",
            "Topic                         0\n",
            "Main video category          67\n",
            "Posts                         0\n",
            "Followers                     0\n",
            "Boost Index                   0\n",
            "Views Avg.                    3\n",
            "Engagement Rate (60 Days)     0\n",
            "dtype: int64\n"
          ]
        }
      ]
    },
    {
      "cell_type": "code",
      "source": [
        "data.dropna(inplace =True, axis =0)\n",
        "print('\\n\\nAfter Dropping Missing Values')\n",
        "print(data.isnull().sum())"
      ],
      "metadata": {
        "colab": {
          "base_uri": "https://localhost:8080/"
        },
        "id": "Q4sVO3I2MCTM",
        "outputId": "bffd6f9d-0506-4da0-cc0b-4145e0517ba3"
      },
      "execution_count": null,
      "outputs": [
        {
          "output_type": "stream",
          "name": "stdout",
          "text": [
            "\n",
            "\n",
            "After Dropping Missing Values\n",
            "Username                     0\n",
            "Country Code                 0\n",
            "Topic                        0\n",
            "Main video category          0\n",
            "Posts                        0\n",
            "Followers                    0\n",
            "Boost Index                  0\n",
            "Views Avg.                   0\n",
            "Engagement Rate (60 Days)    0\n",
            "dtype: int64\n"
          ]
        }
      ]
    },
    {
      "cell_type": "code",
      "source": [
        "data.shape"
      ],
      "metadata": {
        "colab": {
          "base_uri": "https://localhost:8080/"
        },
        "id": "OjISXzZ-MI0A",
        "outputId": "805b42ba-3c70-44a2-cc14-b84a54197281"
      },
      "execution_count": null,
      "outputs": [
        {
          "output_type": "execute_result",
          "data": {
            "text/plain": [
              "(84, 9)"
            ]
          },
          "metadata": {},
          "execution_count": 100
        }
      ]
    },
    {
      "cell_type": "code",
      "source": [
        "data.to_csv('cleaned_instagram_list.csv', index=False)\n",
        "print(\"\\n\\nCleaned Data Stored Successfully\")"
      ],
      "metadata": {
        "colab": {
          "base_uri": "https://localhost:8080/"
        },
        "id": "Xx7D-5RiMzOd",
        "outputId": "1d192c2c-65ea-420a-fb21-7ac49603f70f"
      },
      "execution_count": null,
      "outputs": [
        {
          "output_type": "stream",
          "name": "stdout",
          "text": [
            "\n",
            "\n",
            "Cleaned Data Stored Successfully\n"
          ]
        }
      ]
    }
  ]
}