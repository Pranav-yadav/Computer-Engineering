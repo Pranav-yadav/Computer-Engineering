{
 "cells": [
  {
   "cell_type": "code",
   "execution_count": 1,
   "id": "6bea8413",
   "metadata": {},
   "outputs": [],
   "source": [
    "import pandas as pd"
   ]
  },
  {
   "cell_type": "code",
   "execution_count": 3,
   "id": "e80c38f9",
   "metadata": {},
   "outputs": [],
   "source": [
    "GB_comments = pd.read_csv(\"C:/Users/Swastik/OneDrive/Desktop/SMA-pracc-final/SMA_datasets/SMA-REAL-DATASETS/Amazon Reviewer Dataset/mobile_amazon-reviews-scraper.csv\", on_bad_lines='skip')"
   ]
  },
  {
   "cell_type": "code",
   "execution_count": 4,
   "id": "bb41070b",
   "metadata": {},
   "outputs": [
    {
     "name": "stderr",
     "output_type": "stream",
     "text": [
      "C:\\Users\\Swastik\\AppData\\Local\\Temp\\ipykernel_24516\\3853265845.py:1: FutureWarning: The default value of regex will change from True to False in a future version.\n",
      "  GB_comments['reviewDescription'] = GB_comments['reviewDescription'].str.replace(\"[^a-zA-Z#]\", \" \")\n"
     ]
    }
   ],
   "source": [
    "GB_comments['reviewDescription'] = GB_comments['reviewDescription'].str.replace(\"[^a-zA-Z#]\", \" \")"
   ]
  },
  {
   "cell_type": "code",
   "execution_count": 5,
   "id": "eb77d5fa",
   "metadata": {},
   "outputs": [],
   "source": [
    "GB_comments['reviewDescription'] = GB_comments['reviewDescription'].apply(lambda x: ' '.join([w for w in x.split() if len(w)>3]))"
   ]
  }
 ],
 "metadata": {
  "kernelspec": {
   "display_name": "Python 3 (ipykernel)",
   "language": "python",
   "name": "python3"
  },
  "language_info": {
   "codemirror_mode": {
    "name": "ipython",
    "version": 3
   },
   "file_extension": ".py",
   "mimetype": "text/x-python",
   "name": "python",
   "nbconvert_exporter": "python",
   "pygments_lexer": "ipython3",
   "version": "3.10.9"
  }
 },
 "nbformat": 4,
 "nbformat_minor": 5
}
